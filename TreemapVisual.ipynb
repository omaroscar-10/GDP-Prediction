{
 "cells": [
  {
   "cell_type": "code",
   "execution_count": 2,
   "id": "9b39f28e-1553-42bf-b2de-fdcf13698c24",
   "metadata": {},
   "outputs": [
    {
     "name": "stderr",
     "output_type": "stream",
     "text": [
      "C:\\Users\\shanu\\AppData\\Local\\Temp\\ipykernel_31856\\1919305900.py:10: SettingWithCopyWarning:\n",
      "\n",
      "\n",
      "A value is trying to be set on a copy of a slice from a DataFrame.\n",
      "Try using .loc[row_indexer,col_indexer] = value instead\n",
      "\n",
      "See the caveats in the documentation: https://pandas.pydata.org/pandas-docs/stable/user_guide/indexing.html#returning-a-view-versus-a-copy\n",
      "\n",
      "C:\\Users\\shanu\\AppData\\Local\\Temp\\ipykernel_31856\\1919305900.py:11: SettingWithCopyWarning:\n",
      "\n",
      "\n",
      "A value is trying to be set on a copy of a slice from a DataFrame.\n",
      "Try using .loc[row_indexer,col_indexer] = value instead\n",
      "\n",
      "See the caveats in the documentation: https://pandas.pydata.org/pandas-docs/stable/user_guide/indexing.html#returning-a-view-versus-a-copy\n",
      "\n",
      "C:\\Users\\shanu\\AppData\\Local\\Temp\\ipykernel_31856\\1919305900.py:12: SettingWithCopyWarning:\n",
      "\n",
      "\n",
      "A value is trying to be set on a copy of a slice from a DataFrame.\n",
      "Try using .loc[row_indexer,col_indexer] = value instead\n",
      "\n",
      "See the caveats in the documentation: https://pandas.pydata.org/pandas-docs/stable/user_guide/indexing.html#returning-a-view-versus-a-copy\n",
      "\n"
     ]
    },
    {
     "data": {
      "application/vnd.plotly.v1+json": {
       "config": {
        "plotlyServerURL": "https://plot.ly"
       },
       "data": [
        {
         "branchvalues": "total",
         "domain": {
          "x": [
           0,
           1
          ],
          "y": [
           0,
           1
          ]
         },
         "hovertemplate": "labels=%{label}<br>GDP growth=%{value}<br>parent=%{parent}<br>id=%{id}<extra></extra>",
         "ids": [
          "Subsaharan Countries with current LE less than 70 year/Chad/GDP growth: 132.57%/2022 Life Expectancy: 53 years",
          "Subsaharan Countries with current LE less than 70 year/Lesotho/GDP growth: 1664.79%/2022 Life Expectancy: 53 years",
          "Subsaharan Countries with current LE less than 70 year/Nigeria/GDP growth: 122.65%/2022 Life Expectancy: 54 years",
          "Subsaharan Countries with current LE less than 70 year/Central African Republic/GDP growth: 208.3%/2022 Life Expectancy: 54 years",
          "Subsaharan Countries with current LE less than 70 year/Somalia/GDP growth: 2843.33%/2022 Life Expectancy: 56 years",
          "Subsaharan Countries with current LE less than 70 year/Zimbabwe/GDP growth: 13.16%/2022 Life Expectancy: 59 years",
          "Subsaharan Countries with current LE less than 70 year/Guinea/GDP growth: 160.85%/2022 Life Expectancy: 59 years",
          "Subsaharan Countries with current LE less than 70 year/Mali/GDP growth: 23.0%/2022 Life Expectancy: 59 years",
          "Subsaharan Countries with current LE less than 70 year/Cote d'Ivoire/GDP growth: 89.18%/2022 Life Expectancy: 59 years",
          "Subsaharan Countries with current LE less than 70 year/Congo, Dem. Rep./GDP growth: 358.67%/2022 Life Expectancy: 60 years",
          "Subsaharan Countries with current LE less than 70 year/Mozambique/GDP growth: 5097.46%/2022 Life Expectancy: 60 years",
          "Subsaharan Countries with current LE less than 70 year/Benin/GDP growth: 63.27%/2022 Life Expectancy: 60 years",
          "Subsaharan Countries with current LE less than 70 year/Burkina Faso/GDP growth: 76.83%/2022 Life Expectancy: 60 years",
          "Subsaharan Countries with current LE less than 70 year/South Africa/GDP growth: 24.03%/2022 Life Expectancy: 61 years",
          "Subsaharan Countries with current LE less than 70 year/Cameroon/GDP growth: 43.78%/2022 Life Expectancy: 61 years",
          "Subsaharan Countries with current LE less than 70 year/Kenya/GDP growth: 141.28%/2022 Life Expectancy: 62 years",
          "Subsaharan Countries with current LE less than 70 year/Zambia/GDP growth: 226.83%/2022 Life Expectancy: 62 years",
          "Subsaharan Countries with current LE less than 70 year/Togo/GDP growth: 7.59%/2022 Life Expectancy: 62 years",
          "Subsaharan Countries with current LE less than 70 year/Gambia, The/GDP growth: 200.67%/2022 Life Expectancy: 63 years",
          "Subsaharan Countries with current LE less than 70 year/Congo, Rep./GDP growth: 628.62%/2022 Life Expectancy: 63 years",
          "Subsaharan Countries with current LE less than 70 year/Ghana/GDP growth: 355.12%/2022 Life Expectancy: 64 years",
          "Subsaharan Countries with current LE less than 70 year/Comoros/GDP growth: 36.18%/2022 Life Expectancy: 64 years",
          "Subsaharan Countries with current LE less than 70 year/Uganda/GDP growth: 96.65%/2022 Life Expectancy: 64 years",
          "Subsaharan Countries with current LE less than 70 year/Madagascar/GDP growth: 154.12%/2022 Life Expectancy: 65 years",
          "Subsaharan Countries with current LE less than 70 year/Mauritania/GDP growth: 34.97%/2022 Life Expectancy: 65 years",
          "Subsaharan Countries with current LE less than 70 year/Ethiopia/GDP growth: 115.74%/2022 Life Expectancy: 66 years",
          "Subsaharan Countries with current LE less than 70 year/Sudan/GDP growth: 192.73%/2022 Life Expectancy: 66 years",
          "Subsaharan Countries with current LE less than 70 year/Tanzania/GDP growth: 149.61%/2022 Life Expectancy: 67 years",
          "Subsaharan Countries with current LE less than 70 year/Senegal/GDP growth: 24.12%/2022 Life Expectancy: 68 years",
          "Subsaharan Countries with current LE less than 70 year/Sao Tome and Principe/GDP growth: 184.73%/2022 Life Expectancy: 69 years",
          "Subsaharan Countries with current LE less than 70 year/Ethiopia/GDP growth: 115.74%",
          "Subsaharan Countries with current LE less than 70 year/Nigeria/GDP growth: 122.65%",
          "Subsaharan Countries with current LE less than 70 year/Zimbabwe/GDP growth: 13.16%",
          "Subsaharan Countries with current LE less than 70 year/Chad/GDP growth: 132.57%",
          "Subsaharan Countries with current LE less than 70 year/Kenya/GDP growth: 141.28%",
          "Subsaharan Countries with current LE less than 70 year/Tanzania/GDP growth: 149.61%",
          "Subsaharan Countries with current LE less than 70 year/Madagascar/GDP growth: 154.12%",
          "Subsaharan Countries with current LE less than 70 year/Guinea/GDP growth: 160.85%",
          "Subsaharan Countries with current LE less than 70 year/Lesotho/GDP growth: 1664.79%",
          "Subsaharan Countries with current LE less than 70 year/Sao Tome and Principe/GDP growth: 184.73%",
          "Subsaharan Countries with current LE less than 70 year/Sudan/GDP growth: 192.73%",
          "Subsaharan Countries with current LE less than 70 year/Gambia, The/GDP growth: 200.67%",
          "Subsaharan Countries with current LE less than 70 year/Central African Republic/GDP growth: 208.3%",
          "Subsaharan Countries with current LE less than 70 year/Zambia/GDP growth: 226.83%",
          "Subsaharan Countries with current LE less than 70 year/Mali/GDP growth: 23.0%",
          "Subsaharan Countries with current LE less than 70 year/South Africa/GDP growth: 24.03%",
          "Subsaharan Countries with current LE less than 70 year/Senegal/GDP growth: 24.12%",
          "Subsaharan Countries with current LE less than 70 year/Somalia/GDP growth: 2843.33%",
          "Subsaharan Countries with current LE less than 70 year/Mauritania/GDP growth: 34.97%",
          "Subsaharan Countries with current LE less than 70 year/Ghana/GDP growth: 355.12%",
          "Subsaharan Countries with current LE less than 70 year/Congo, Dem. Rep./GDP growth: 358.67%",
          "Subsaharan Countries with current LE less than 70 year/Comoros/GDP growth: 36.18%",
          "Subsaharan Countries with current LE less than 70 year/Cameroon/GDP growth: 43.78%",
          "Subsaharan Countries with current LE less than 70 year/Mozambique/GDP growth: 5097.46%",
          "Subsaharan Countries with current LE less than 70 year/Congo, Rep./GDP growth: 628.62%",
          "Subsaharan Countries with current LE less than 70 year/Benin/GDP growth: 63.27%",
          "Subsaharan Countries with current LE less than 70 year/Togo/GDP growth: 7.59%",
          "Subsaharan Countries with current LE less than 70 year/Burkina Faso/GDP growth: 76.83%",
          "Subsaharan Countries with current LE less than 70 year/Cote d'Ivoire/GDP growth: 89.18%",
          "Subsaharan Countries with current LE less than 70 year/Uganda/GDP growth: 96.65%",
          "Subsaharan Countries with current LE less than 70 year/Benin",
          "Subsaharan Countries with current LE less than 70 year/Burkina Faso",
          "Subsaharan Countries with current LE less than 70 year/Cameroon",
          "Subsaharan Countries with current LE less than 70 year/Central African Republic",
          "Subsaharan Countries with current LE less than 70 year/Chad",
          "Subsaharan Countries with current LE less than 70 year/Comoros",
          "Subsaharan Countries with current LE less than 70 year/Congo, Dem. Rep.",
          "Subsaharan Countries with current LE less than 70 year/Congo, Rep.",
          "Subsaharan Countries with current LE less than 70 year/Cote d'Ivoire",
          "Subsaharan Countries with current LE less than 70 year/Ethiopia",
          "Subsaharan Countries with current LE less than 70 year/Gambia, The",
          "Subsaharan Countries with current LE less than 70 year/Ghana",
          "Subsaharan Countries with current LE less than 70 year/Guinea",
          "Subsaharan Countries with current LE less than 70 year/Kenya",
          "Subsaharan Countries with current LE less than 70 year/Lesotho",
          "Subsaharan Countries with current LE less than 70 year/Madagascar",
          "Subsaharan Countries with current LE less than 70 year/Mali",
          "Subsaharan Countries with current LE less than 70 year/Mauritania",
          "Subsaharan Countries with current LE less than 70 year/Mozambique",
          "Subsaharan Countries with current LE less than 70 year/Nigeria",
          "Subsaharan Countries with current LE less than 70 year/Sao Tome and Principe",
          "Subsaharan Countries with current LE less than 70 year/Senegal",
          "Subsaharan Countries with current LE less than 70 year/Somalia",
          "Subsaharan Countries with current LE less than 70 year/South Africa",
          "Subsaharan Countries with current LE less than 70 year/Sudan",
          "Subsaharan Countries with current LE less than 70 year/Tanzania",
          "Subsaharan Countries with current LE less than 70 year/Togo",
          "Subsaharan Countries with current LE less than 70 year/Uganda",
          "Subsaharan Countries with current LE less than 70 year/Zambia",
          "Subsaharan Countries with current LE less than 70 year/Zimbabwe",
          "Subsaharan Countries with current LE less than 70 year"
         ],
         "labels": [
          "2022 Life Expectancy: 53 years",
          "2022 Life Expectancy: 53 years",
          "2022 Life Expectancy: 54 years",
          "2022 Life Expectancy: 54 years",
          "2022 Life Expectancy: 56 years",
          "2022 Life Expectancy: 59 years",
          "2022 Life Expectancy: 59 years",
          "2022 Life Expectancy: 59 years",
          "2022 Life Expectancy: 59 years",
          "2022 Life Expectancy: 60 years",
          "2022 Life Expectancy: 60 years",
          "2022 Life Expectancy: 60 years",
          "2022 Life Expectancy: 60 years",
          "2022 Life Expectancy: 61 years",
          "2022 Life Expectancy: 61 years",
          "2022 Life Expectancy: 62 years",
          "2022 Life Expectancy: 62 years",
          "2022 Life Expectancy: 62 years",
          "2022 Life Expectancy: 63 years",
          "2022 Life Expectancy: 63 years",
          "2022 Life Expectancy: 64 years",
          "2022 Life Expectancy: 64 years",
          "2022 Life Expectancy: 64 years",
          "2022 Life Expectancy: 65 years",
          "2022 Life Expectancy: 65 years",
          "2022 Life Expectancy: 66 years",
          "2022 Life Expectancy: 66 years",
          "2022 Life Expectancy: 67 years",
          "2022 Life Expectancy: 68 years",
          "2022 Life Expectancy: 69 years",
          "GDP growth: 115.74%",
          "GDP growth: 122.65%",
          "GDP growth: 13.16%",
          "GDP growth: 132.57%",
          "GDP growth: 141.28%",
          "GDP growth: 149.61%",
          "GDP growth: 154.12%",
          "GDP growth: 160.85%",
          "GDP growth: 1664.79%",
          "GDP growth: 184.73%",
          "GDP growth: 192.73%",
          "GDP growth: 200.67%",
          "GDP growth: 208.3%",
          "GDP growth: 226.83%",
          "GDP growth: 23.0%",
          "GDP growth: 24.03%",
          "GDP growth: 24.12%",
          "GDP growth: 2843.33%",
          "GDP growth: 34.97%",
          "GDP growth: 355.12%",
          "GDP growth: 358.67%",
          "GDP growth: 36.18%",
          "GDP growth: 43.78%",
          "GDP growth: 5097.46%",
          "GDP growth: 628.62%",
          "GDP growth: 63.27%",
          "GDP growth: 7.59%",
          "GDP growth: 76.83%",
          "GDP growth: 89.18%",
          "GDP growth: 96.65%",
          "Benin",
          "Burkina Faso",
          "Cameroon",
          "Central African Republic",
          "Chad",
          "Comoros",
          "Congo, Dem. Rep.",
          "Congo, Rep.",
          "Cote d'Ivoire",
          "Ethiopia",
          "Gambia, The",
          "Ghana",
          "Guinea",
          "Kenya",
          "Lesotho",
          "Madagascar",
          "Mali",
          "Mauritania",
          "Mozambique",
          "Nigeria",
          "Sao Tome and Principe",
          "Senegal",
          "Somalia",
          "South Africa",
          "Sudan",
          "Tanzania",
          "Togo",
          "Uganda",
          "Zambia",
          "Zimbabwe",
          "Subsaharan Countries with current LE less than 70 year"
         ],
         "name": "",
         "parents": [
          "Subsaharan Countries with current LE less than 70 year/Chad/GDP growth: 132.57%",
          "Subsaharan Countries with current LE less than 70 year/Lesotho/GDP growth: 1664.79%",
          "Subsaharan Countries with current LE less than 70 year/Nigeria/GDP growth: 122.65%",
          "Subsaharan Countries with current LE less than 70 year/Central African Republic/GDP growth: 208.3%",
          "Subsaharan Countries with current LE less than 70 year/Somalia/GDP growth: 2843.33%",
          "Subsaharan Countries with current LE less than 70 year/Zimbabwe/GDP growth: 13.16%",
          "Subsaharan Countries with current LE less than 70 year/Guinea/GDP growth: 160.85%",
          "Subsaharan Countries with current LE less than 70 year/Mali/GDP growth: 23.0%",
          "Subsaharan Countries with current LE less than 70 year/Cote d'Ivoire/GDP growth: 89.18%",
          "Subsaharan Countries with current LE less than 70 year/Congo, Dem. Rep./GDP growth: 358.67%",
          "Subsaharan Countries with current LE less than 70 year/Mozambique/GDP growth: 5097.46%",
          "Subsaharan Countries with current LE less than 70 year/Benin/GDP growth: 63.27%",
          "Subsaharan Countries with current LE less than 70 year/Burkina Faso/GDP growth: 76.83%",
          "Subsaharan Countries with current LE less than 70 year/South Africa/GDP growth: 24.03%",
          "Subsaharan Countries with current LE less than 70 year/Cameroon/GDP growth: 43.78%",
          "Subsaharan Countries with current LE less than 70 year/Kenya/GDP growth: 141.28%",
          "Subsaharan Countries with current LE less than 70 year/Zambia/GDP growth: 226.83%",
          "Subsaharan Countries with current LE less than 70 year/Togo/GDP growth: 7.59%",
          "Subsaharan Countries with current LE less than 70 year/Gambia, The/GDP growth: 200.67%",
          "Subsaharan Countries with current LE less than 70 year/Congo, Rep./GDP growth: 628.62%",
          "Subsaharan Countries with current LE less than 70 year/Ghana/GDP growth: 355.12%",
          "Subsaharan Countries with current LE less than 70 year/Comoros/GDP growth: 36.18%",
          "Subsaharan Countries with current LE less than 70 year/Uganda/GDP growth: 96.65%",
          "Subsaharan Countries with current LE less than 70 year/Madagascar/GDP growth: 154.12%",
          "Subsaharan Countries with current LE less than 70 year/Mauritania/GDP growth: 34.97%",
          "Subsaharan Countries with current LE less than 70 year/Ethiopia/GDP growth: 115.74%",
          "Subsaharan Countries with current LE less than 70 year/Sudan/GDP growth: 192.73%",
          "Subsaharan Countries with current LE less than 70 year/Tanzania/GDP growth: 149.61%",
          "Subsaharan Countries with current LE less than 70 year/Senegal/GDP growth: 24.12%",
          "Subsaharan Countries with current LE less than 70 year/Sao Tome and Principe/GDP growth: 184.73%",
          "Subsaharan Countries with current LE less than 70 year/Ethiopia",
          "Subsaharan Countries with current LE less than 70 year/Nigeria",
          "Subsaharan Countries with current LE less than 70 year/Zimbabwe",
          "Subsaharan Countries with current LE less than 70 year/Chad",
          "Subsaharan Countries with current LE less than 70 year/Kenya",
          "Subsaharan Countries with current LE less than 70 year/Tanzania",
          "Subsaharan Countries with current LE less than 70 year/Madagascar",
          "Subsaharan Countries with current LE less than 70 year/Guinea",
          "Subsaharan Countries with current LE less than 70 year/Lesotho",
          "Subsaharan Countries with current LE less than 70 year/Sao Tome and Principe",
          "Subsaharan Countries with current LE less than 70 year/Sudan",
          "Subsaharan Countries with current LE less than 70 year/Gambia, The",
          "Subsaharan Countries with current LE less than 70 year/Central African Republic",
          "Subsaharan Countries with current LE less than 70 year/Zambia",
          "Subsaharan Countries with current LE less than 70 year/Mali",
          "Subsaharan Countries with current LE less than 70 year/South Africa",
          "Subsaharan Countries with current LE less than 70 year/Senegal",
          "Subsaharan Countries with current LE less than 70 year/Somalia",
          "Subsaharan Countries with current LE less than 70 year/Mauritania",
          "Subsaharan Countries with current LE less than 70 year/Ghana",
          "Subsaharan Countries with current LE less than 70 year/Congo, Dem. Rep.",
          "Subsaharan Countries with current LE less than 70 year/Comoros",
          "Subsaharan Countries with current LE less than 70 year/Cameroon",
          "Subsaharan Countries with current LE less than 70 year/Mozambique",
          "Subsaharan Countries with current LE less than 70 year/Congo, Rep.",
          "Subsaharan Countries with current LE less than 70 year/Benin",
          "Subsaharan Countries with current LE less than 70 year/Togo",
          "Subsaharan Countries with current LE less than 70 year/Burkina Faso",
          "Subsaharan Countries with current LE less than 70 year/Cote d'Ivoire",
          "Subsaharan Countries with current LE less than 70 year/Uganda",
          "Subsaharan Countries with current LE less than 70 year",
          "Subsaharan Countries with current LE less than 70 year",
          "Subsaharan Countries with current LE less than 70 year",
          "Subsaharan Countries with current LE less than 70 year",
          "Subsaharan Countries with current LE less than 70 year",
          "Subsaharan Countries with current LE less than 70 year",
          "Subsaharan Countries with current LE less than 70 year",
          "Subsaharan Countries with current LE less than 70 year",
          "Subsaharan Countries with current LE less than 70 year",
          "Subsaharan Countries with current LE less than 70 year",
          "Subsaharan Countries with current LE less than 70 year",
          "Subsaharan Countries with current LE less than 70 year",
          "Subsaharan Countries with current LE less than 70 year",
          "Subsaharan Countries with current LE less than 70 year",
          "Subsaharan Countries with current LE less than 70 year",
          "Subsaharan Countries with current LE less than 70 year",
          "Subsaharan Countries with current LE less than 70 year",
          "Subsaharan Countries with current LE less than 70 year",
          "Subsaharan Countries with current LE less than 70 year",
          "Subsaharan Countries with current LE less than 70 year",
          "Subsaharan Countries with current LE less than 70 year",
          "Subsaharan Countries with current LE less than 70 year",
          "Subsaharan Countries with current LE less than 70 year",
          "Subsaharan Countries with current LE less than 70 year",
          "Subsaharan Countries with current LE less than 70 year",
          "Subsaharan Countries with current LE less than 70 year",
          "Subsaharan Countries with current LE less than 70 year",
          "Subsaharan Countries with current LE less than 70 year",
          "Subsaharan Countries with current LE less than 70 year",
          "Subsaharan Countries with current LE less than 70 year",
          ""
         ],
         "root": {
          "color": "lightgrey"
         },
         "type": "treemap",
         "values": [
          132.57199825885462,
          1664.7940696951796,
          122.6546063033632,
          208.29543989933163,
          2843.3317958078915,
          13.162461867443836,
          160.84687147091253,
          23.00259324974582,
          89.17795842584454,
          358.6726889885024,
          5097.464541362695,
          63.27159042036992,
          76.83018871347751,
          24.029714234851287,
          43.77577835909655,
          141.2768811178622,
          226.82705676257945,
          7.588524701926426,
          200.6732000850441,
          628.618883859437,
          355.1180304965724,
          36.18140545879571,
          96.64815151466792,
          154.116359408316,
          34.97319847070692,
          115.7358508667612,
          192.7294273091505,
          149.61430122709055,
          24.119552664077208,
          184.72954457330988,
          115.7358508667612,
          122.6546063033632,
          13.162461867443836,
          132.57199825885462,
          141.2768811178622,
          149.61430122709055,
          154.116359408316,
          160.84687147091253,
          1664.7940696951796,
          184.72954457330988,
          192.7294273091505,
          200.6732000850441,
          208.29543989933163,
          226.82705676257945,
          23.00259324974582,
          24.029714234851287,
          24.119552664077208,
          2843.3317958078915,
          34.97319847070692,
          355.1180304965724,
          358.6726889885024,
          36.18140545879571,
          43.77577835909655,
          5097.464541362695,
          628.618883859437,
          63.27159042036992,
          7.588524701926426,
          76.83018871347751,
          89.17795842584454,
          96.64815151466792,
          63.27159042036992,
          76.83018871347751,
          43.77577835909655,
          208.29543989933163,
          132.57199825885462,
          36.18140545879571,
          358.6726889885024,
          628.618883859437,
          89.17795842584454,
          115.7358508667612,
          200.6732000850441,
          355.1180304965724,
          160.84687147091253,
          141.2768811178622,
          1664.7940696951796,
          154.116359408316,
          23.00259324974582,
          34.97319847070692,
          5097.464541362695,
          122.6546063033632,
          184.72954457330988,
          24.119552664077208,
          2843.3317958078915,
          24.029714234851287,
          192.7294273091505,
          149.61430122709055,
          7.588524701926426,
          96.64815151466792,
          226.82705676257945,
          13.162461867443836,
          13470.832665573858
         ]
        }
       ],
       "layout": {
        "autosize": true,
        "legend": {
         "tracegroupgap": 0
        },
        "margin": {
         "b": 25,
         "l": 25,
         "r": 25,
         "t": 50
        },
        "template": {
         "data": {
          "bar": [
           {
            "error_x": {
             "color": "#2a3f5f"
            },
            "error_y": {
             "color": "#2a3f5f"
            },
            "marker": {
             "line": {
              "color": "#E5ECF6",
              "width": 0.5
             },
             "pattern": {
              "fillmode": "overlay",
              "size": 10,
              "solidity": 0.2
             }
            },
            "type": "bar"
           }
          ],
          "barpolar": [
           {
            "marker": {
             "line": {
              "color": "#E5ECF6",
              "width": 0.5
             },
             "pattern": {
              "fillmode": "overlay",
              "size": 10,
              "solidity": 0.2
             }
            },
            "type": "barpolar"
           }
          ],
          "carpet": [
           {
            "aaxis": {
             "endlinecolor": "#2a3f5f",
             "gridcolor": "white",
             "linecolor": "white",
             "minorgridcolor": "white",
             "startlinecolor": "#2a3f5f"
            },
            "baxis": {
             "endlinecolor": "#2a3f5f",
             "gridcolor": "white",
             "linecolor": "white",
             "minorgridcolor": "white",
             "startlinecolor": "#2a3f5f"
            },
            "type": "carpet"
           }
          ],
          "choropleth": [
           {
            "colorbar": {
             "outlinewidth": 0,
             "ticks": ""
            },
            "type": "choropleth"
           }
          ],
          "contour": [
           {
            "colorbar": {
             "outlinewidth": 0,
             "ticks": ""
            },
            "colorscale": [
             [
              0,
              "#0d0887"
             ],
             [
              0.1111111111111111,
              "#46039f"
             ],
             [
              0.2222222222222222,
              "#7201a8"
             ],
             [
              0.3333333333333333,
              "#9c179e"
             ],
             [
              0.4444444444444444,
              "#bd3786"
             ],
             [
              0.5555555555555556,
              "#d8576b"
             ],
             [
              0.6666666666666666,
              "#ed7953"
             ],
             [
              0.7777777777777778,
              "#fb9f3a"
             ],
             [
              0.8888888888888888,
              "#fdca26"
             ],
             [
              1,
              "#f0f921"
             ]
            ],
            "type": "contour"
           }
          ],
          "contourcarpet": [
           {
            "colorbar": {
             "outlinewidth": 0,
             "ticks": ""
            },
            "type": "contourcarpet"
           }
          ],
          "heatmap": [
           {
            "colorbar": {
             "outlinewidth": 0,
             "ticks": ""
            },
            "colorscale": [
             [
              0,
              "#0d0887"
             ],
             [
              0.1111111111111111,
              "#46039f"
             ],
             [
              0.2222222222222222,
              "#7201a8"
             ],
             [
              0.3333333333333333,
              "#9c179e"
             ],
             [
              0.4444444444444444,
              "#bd3786"
             ],
             [
              0.5555555555555556,
              "#d8576b"
             ],
             [
              0.6666666666666666,
              "#ed7953"
             ],
             [
              0.7777777777777778,
              "#fb9f3a"
             ],
             [
              0.8888888888888888,
              "#fdca26"
             ],
             [
              1,
              "#f0f921"
             ]
            ],
            "type": "heatmap"
           }
          ],
          "heatmapgl": [
           {
            "colorbar": {
             "outlinewidth": 0,
             "ticks": ""
            },
            "colorscale": [
             [
              0,
              "#0d0887"
             ],
             [
              0.1111111111111111,
              "#46039f"
             ],
             [
              0.2222222222222222,
              "#7201a8"
             ],
             [
              0.3333333333333333,
              "#9c179e"
             ],
             [
              0.4444444444444444,
              "#bd3786"
             ],
             [
              0.5555555555555556,
              "#d8576b"
             ],
             [
              0.6666666666666666,
              "#ed7953"
             ],
             [
              0.7777777777777778,
              "#fb9f3a"
             ],
             [
              0.8888888888888888,
              "#fdca26"
             ],
             [
              1,
              "#f0f921"
             ]
            ],
            "type": "heatmapgl"
           }
          ],
          "histogram": [
           {
            "marker": {
             "pattern": {
              "fillmode": "overlay",
              "size": 10,
              "solidity": 0.2
             }
            },
            "type": "histogram"
           }
          ],
          "histogram2d": [
           {
            "colorbar": {
             "outlinewidth": 0,
             "ticks": ""
            },
            "colorscale": [
             [
              0,
              "#0d0887"
             ],
             [
              0.1111111111111111,
              "#46039f"
             ],
             [
              0.2222222222222222,
              "#7201a8"
             ],
             [
              0.3333333333333333,
              "#9c179e"
             ],
             [
              0.4444444444444444,
              "#bd3786"
             ],
             [
              0.5555555555555556,
              "#d8576b"
             ],
             [
              0.6666666666666666,
              "#ed7953"
             ],
             [
              0.7777777777777778,
              "#fb9f3a"
             ],
             [
              0.8888888888888888,
              "#fdca26"
             ],
             [
              1,
              "#f0f921"
             ]
            ],
            "type": "histogram2d"
           }
          ],
          "histogram2dcontour": [
           {
            "colorbar": {
             "outlinewidth": 0,
             "ticks": ""
            },
            "colorscale": [
             [
              0,
              "#0d0887"
             ],
             [
              0.1111111111111111,
              "#46039f"
             ],
             [
              0.2222222222222222,
              "#7201a8"
             ],
             [
              0.3333333333333333,
              "#9c179e"
             ],
             [
              0.4444444444444444,
              "#bd3786"
             ],
             [
              0.5555555555555556,
              "#d8576b"
             ],
             [
              0.6666666666666666,
              "#ed7953"
             ],
             [
              0.7777777777777778,
              "#fb9f3a"
             ],
             [
              0.8888888888888888,
              "#fdca26"
             ],
             [
              1,
              "#f0f921"
             ]
            ],
            "type": "histogram2dcontour"
           }
          ],
          "mesh3d": [
           {
            "colorbar": {
             "outlinewidth": 0,
             "ticks": ""
            },
            "type": "mesh3d"
           }
          ],
          "parcoords": [
           {
            "line": {
             "colorbar": {
              "outlinewidth": 0,
              "ticks": ""
             }
            },
            "type": "parcoords"
           }
          ],
          "pie": [
           {
            "automargin": true,
            "type": "pie"
           }
          ],
          "scatter": [
           {
            "fillpattern": {
             "fillmode": "overlay",
             "size": 10,
             "solidity": 0.2
            },
            "type": "scatter"
           }
          ],
          "scatter3d": [
           {
            "line": {
             "colorbar": {
              "outlinewidth": 0,
              "ticks": ""
             }
            },
            "marker": {
             "colorbar": {
              "outlinewidth": 0,
              "ticks": ""
             }
            },
            "type": "scatter3d"
           }
          ],
          "scattercarpet": [
           {
            "marker": {
             "colorbar": {
              "outlinewidth": 0,
              "ticks": ""
             }
            },
            "type": "scattercarpet"
           }
          ],
          "scattergeo": [
           {
            "marker": {
             "colorbar": {
              "outlinewidth": 0,
              "ticks": ""
             }
            },
            "type": "scattergeo"
           }
          ],
          "scattergl": [
           {
            "marker": {
             "colorbar": {
              "outlinewidth": 0,
              "ticks": ""
             }
            },
            "type": "scattergl"
           }
          ],
          "scattermapbox": [
           {
            "marker": {
             "colorbar": {
              "outlinewidth": 0,
              "ticks": ""
             }
            },
            "type": "scattermapbox"
           }
          ],
          "scatterpolar": [
           {
            "marker": {
             "colorbar": {
              "outlinewidth": 0,
              "ticks": ""
             }
            },
            "type": "scatterpolar"
           }
          ],
          "scatterpolargl": [
           {
            "marker": {
             "colorbar": {
              "outlinewidth": 0,
              "ticks": ""
             }
            },
            "type": "scatterpolargl"
           }
          ],
          "scatterternary": [
           {
            "marker": {
             "colorbar": {
              "outlinewidth": 0,
              "ticks": ""
             }
            },
            "type": "scatterternary"
           }
          ],
          "surface": [
           {
            "colorbar": {
             "outlinewidth": 0,
             "ticks": ""
            },
            "colorscale": [
             [
              0,
              "#0d0887"
             ],
             [
              0.1111111111111111,
              "#46039f"
             ],
             [
              0.2222222222222222,
              "#7201a8"
             ],
             [
              0.3333333333333333,
              "#9c179e"
             ],
             [
              0.4444444444444444,
              "#bd3786"
             ],
             [
              0.5555555555555556,
              "#d8576b"
             ],
             [
              0.6666666666666666,
              "#ed7953"
             ],
             [
              0.7777777777777778,
              "#fb9f3a"
             ],
             [
              0.8888888888888888,
              "#fdca26"
             ],
             [
              1,
              "#f0f921"
             ]
            ],
            "type": "surface"
           }
          ],
          "table": [
           {
            "cells": {
             "fill": {
              "color": "#EBF0F8"
             },
             "line": {
              "color": "white"
             }
            },
            "header": {
             "fill": {
              "color": "#C8D4E3"
             },
             "line": {
              "color": "white"
             }
            },
            "type": "table"
           }
          ]
         },
         "layout": {
          "annotationdefaults": {
           "arrowcolor": "#2a3f5f",
           "arrowhead": 0,
           "arrowwidth": 1
          },
          "autotypenumbers": "strict",
          "coloraxis": {
           "colorbar": {
            "outlinewidth": 0,
            "ticks": ""
           }
          },
          "colorscale": {
           "diverging": [
            [
             0,
             "#8e0152"
            ],
            [
             0.1,
             "#c51b7d"
            ],
            [
             0.2,
             "#de77ae"
            ],
            [
             0.3,
             "#f1b6da"
            ],
            [
             0.4,
             "#fde0ef"
            ],
            [
             0.5,
             "#f7f7f7"
            ],
            [
             0.6,
             "#e6f5d0"
            ],
            [
             0.7,
             "#b8e186"
            ],
            [
             0.8,
             "#7fbc41"
            ],
            [
             0.9,
             "#4d9221"
            ],
            [
             1,
             "#276419"
            ]
           ],
           "sequential": [
            [
             0,
             "#0d0887"
            ],
            [
             0.1111111111111111,
             "#46039f"
            ],
            [
             0.2222222222222222,
             "#7201a8"
            ],
            [
             0.3333333333333333,
             "#9c179e"
            ],
            [
             0.4444444444444444,
             "#bd3786"
            ],
            [
             0.5555555555555556,
             "#d8576b"
            ],
            [
             0.6666666666666666,
             "#ed7953"
            ],
            [
             0.7777777777777778,
             "#fb9f3a"
            ],
            [
             0.8888888888888888,
             "#fdca26"
            ],
            [
             1,
             "#f0f921"
            ]
           ],
           "sequentialminus": [
            [
             0,
             "#0d0887"
            ],
            [
             0.1111111111111111,
             "#46039f"
            ],
            [
             0.2222222222222222,
             "#7201a8"
            ],
            [
             0.3333333333333333,
             "#9c179e"
            ],
            [
             0.4444444444444444,
             "#bd3786"
            ],
            [
             0.5555555555555556,
             "#d8576b"
            ],
            [
             0.6666666666666666,
             "#ed7953"
            ],
            [
             0.7777777777777778,
             "#fb9f3a"
            ],
            [
             0.8888888888888888,
             "#fdca26"
            ],
            [
             1,
             "#f0f921"
            ]
           ]
          },
          "colorway": [
           "#636efa",
           "#EF553B",
           "#00cc96",
           "#ab63fa",
           "#FFA15A",
           "#19d3f3",
           "#FF6692",
           "#B6E880",
           "#FF97FF",
           "#FECB52"
          ],
          "font": {
           "color": "#2a3f5f"
          },
          "geo": {
           "bgcolor": "white",
           "lakecolor": "white",
           "landcolor": "#E5ECF6",
           "showlakes": true,
           "showland": true,
           "subunitcolor": "white"
          },
          "hoverlabel": {
           "align": "left"
          },
          "hovermode": "closest",
          "mapbox": {
           "style": "light"
          },
          "paper_bgcolor": "white",
          "plot_bgcolor": "#E5ECF6",
          "polar": {
           "angularaxis": {
            "gridcolor": "white",
            "linecolor": "white",
            "ticks": ""
           },
           "bgcolor": "#E5ECF6",
           "radialaxis": {
            "gridcolor": "white",
            "linecolor": "white",
            "ticks": ""
           }
          },
          "scene": {
           "xaxis": {
            "backgroundcolor": "#E5ECF6",
            "gridcolor": "white",
            "gridwidth": 2,
            "linecolor": "white",
            "showbackground": true,
            "ticks": "",
            "zerolinecolor": "white"
           },
           "yaxis": {
            "backgroundcolor": "#E5ECF6",
            "gridcolor": "white",
            "gridwidth": 2,
            "linecolor": "white",
            "showbackground": true,
            "ticks": "",
            "zerolinecolor": "white"
           },
           "zaxis": {
            "backgroundcolor": "#E5ECF6",
            "gridcolor": "white",
            "gridwidth": 2,
            "linecolor": "white",
            "showbackground": true,
            "ticks": "",
            "zerolinecolor": "white"
           }
          },
          "shapedefaults": {
           "line": {
            "color": "#2a3f5f"
           }
          },
          "ternary": {
           "aaxis": {
            "gridcolor": "white",
            "linecolor": "white",
            "ticks": ""
           },
           "baxis": {
            "gridcolor": "white",
            "linecolor": "white",
            "ticks": ""
           },
           "bgcolor": "#E5ECF6",
           "caxis": {
            "gridcolor": "white",
            "linecolor": "white",
            "ticks": ""
           }
          },
          "title": {
           "x": 0.05
          },
          "xaxis": {
           "automargin": true,
           "gridcolor": "white",
           "linecolor": "white",
           "ticks": "",
           "title": {
            "standoff": 15
           },
           "zerolinecolor": "white",
           "zerolinewidth": 2
          },
          "yaxis": {
           "automargin": true,
           "gridcolor": "white",
           "linecolor": "white",
           "ticks": "",
           "title": {
            "standoff": 15
           },
           "zerolinecolor": "white",
           "zerolinewidth": 2
          }
         }
        },
        "title": {
         "text": "% GDP growth required to achieve 70 yrs Life Expectancy"
        }
       }
      },
      "image/png": "[encoded data removed]",
      "text/html": [
       "<div>                            <div id=\"18b96bfc-b440-4710-92db-fb2bfdadad47\" class=\"plotly-graph-div\" style=\"height:525px; width:100%;\"></div>            <script type=\"text/javascript\">                require([\"plotly\"], function(Plotly) {                    window.PLOTLYENV=window.PLOTLYENV || {};                                    if (document.getElementById(\"18b96bfc-b440-4710-92db-fb2bfdadad47\")) {                    Plotly.newPlot(                        \"18b96bfc-b440-4710-92db-fb2bfdadad47\",                        [{\"branchvalues\":\"total\",\"domain\":{\"x\":[0.0,1.0],\"y\":[0.0,1.0]},\"hovertemplate\":\"labels=%{label}<br>GDP growth=%{value}<br>parent=%{parent}<br>id=%{id}<extra></extra>\",\"ids\":[\"Subsaharan Countries with current LE less than 70 year/Chad/GDP growth: 132.57%/2022 Life Expectancy: 53 years\",\"Subsaharan Countries with current LE less than 70 year/Lesotho/GDP growth: 1664.79%/2022 Life Expectancy: 53 years\",\"Subsaharan Countries with current LE less than 70 year/Nigeria/GDP growth: 122.65%/2022 Life Expectancy: 54 years\",\"Subsaharan Countries with current LE less than 70 year/Central African Republic/GDP growth: 208.3%/2022 Life Expectancy: 54 years\",\"Subsaharan Countries with current LE less than 70 year/Somalia/GDP growth: 2843.33%/2022 Life Expectancy: 56 years\",\"Subsaharan Countries with current LE less than 70 year/Zimbabwe/GDP growth: 13.16%/2022 Life Expectancy: 59 years\",\"Subsaharan Countries with current LE less than 70 year/Guinea/GDP growth: 160.85%/2022 Life Expectancy: 59 years\",\"Subsaharan Countries with current LE less than 70 year/Mali/GDP growth: 23.0%/2022 Life Expectancy: 59 years\",\"Subsaharan Countries with current LE less than 70 year/Cote d'Ivoire/GDP growth: 89.18%/2022 Life Expectancy: 59 years\",\"Subsaharan Countries with current LE less than 70 year/Congo, Dem. Rep./GDP growth: 358.67%/2022 Life Expectancy: 60 years\",\"Subsaharan Countries with current LE less than 70 year/Mozambique/GDP growth: 5097.46%/2022 Life Expectancy: 60 years\",\"Subsaharan Countries with current LE less than 70 year/Benin/GDP growth: 63.27%/2022 Life Expectancy: 60 years\",\"Subsaharan Countries with current LE less than 70 year/Burkina Faso/GDP growth: 76.83%/2022 Life Expectancy: 60 years\",\"Subsaharan Countries with current LE less than 70 year/South Africa/GDP growth: 24.03%/2022 Life Expectancy: 61 years\",\"Subsaharan Countries with current LE less than 70 year/Cameroon/GDP growth: 43.78%/2022 Life Expectancy: 61 years\",\"Subsaharan Countries with current LE less than 70 year/Kenya/GDP growth: 141.28%/2022 Life Expectancy: 62 years\",\"Subsaharan Countries with current LE less than 70 year/Zambia/GDP growth: 226.83%/2022 Life Expectancy: 62 years\",\"Subsaharan Countries with current LE less than 70 year/Togo/GDP growth: 7.59%/2022 Life Expectancy: 62 years\",\"Subsaharan Countries with current LE less than 70 year/Gambia, The/GDP growth: 200.67%/2022 Life Expectancy: 63 years\",\"Subsaharan Countries with current LE less than 70 year/Congo, Rep./GDP growth: 628.62%/2022 Life Expectancy: 63 years\",\"Subsaharan Countries with current LE less than 70 year/Ghana/GDP growth: 355.12%/2022 Life Expectancy: 64 years\",\"Subsaharan Countries with current LE less than 70 year/Comoros/GDP growth: 36.18%/2022 Life Expectancy: 64 years\",\"Subsaharan Countries with current LE less than 70 year/Uganda/GDP growth: 96.65%/2022 Life Expectancy: 64 years\",\"Subsaharan Countries with current LE less than 70 year/Madagascar/GDP growth: 154.12%/2022 Life Expectancy: 65 years\",\"Subsaharan Countries with current LE less than 70 year/Mauritania/GDP growth: 34.97%/2022 Life Expectancy: 65 years\",\"Subsaharan Countries with current LE less than 70 year/Ethiopia/GDP growth: 115.74%/2022 Life Expectancy: 66 years\",\"Subsaharan Countries with current LE less than 70 year/Sudan/GDP growth: 192.73%/2022 Life Expectancy: 66 years\",\"Subsaharan Countries with current LE less than 70 year/Tanzania/GDP growth: 149.61%/2022 Life Expectancy: 67 years\",\"Subsaharan Countries with current LE less than 70 year/Senegal/GDP growth: 24.12%/2022 Life Expectancy: 68 years\",\"Subsaharan Countries with current LE less than 70 year/Sao Tome and Principe/GDP growth: 184.73%/2022 Life Expectancy: 69 years\",\"Subsaharan Countries with current LE less than 70 year/Ethiopia/GDP growth: 115.74%\",\"Subsaharan Countries with current LE less than 70 year/Nigeria/GDP growth: 122.65%\",\"Subsaharan Countries with current LE less than 70 year/Zimbabwe/GDP growth: 13.16%\",\"Subsaharan Countries with current LE less than 70 year/Chad/GDP growth: 132.57%\",\"Subsaharan Countries with current LE less than 70 year/Kenya/GDP growth: 141.28%\",\"Subsaharan Countries with current LE less than 70 year/Tanzania/GDP growth: 149.61%\",\"Subsaharan Countries with current LE less than 70 year/Madagascar/GDP growth: 154.12%\",\"Subsaharan Countries with current LE less than 70 year/Guinea/GDP growth: 160.85%\",\"Subsaharan Countries with current LE less than 70 year/Lesotho/GDP growth: 1664.79%\",\"Subsaharan Countries with current LE less than 70 year/Sao Tome and Principe/GDP growth: 184.73%\",\"Subsaharan Countries with current LE less than 70 year/Sudan/GDP growth: 192.73%\",\"Subsaharan Countries with current LE less than 70 year/Gambia, The/GDP growth: 200.67%\",\"Subsaharan Countries with current LE less than 70 year/Central African Republic/GDP growth: 208.3%\",\"Subsaharan Countries with current LE less than 70 year/Zambia/GDP growth: 226.83%\",\"Subsaharan Countries with current LE less than 70 year/Mali/GDP growth: 23.0%\",\"Subsaharan Countries with current LE less than 70 year/South Africa/GDP growth: 24.03%\",\"Subsaharan Countries with current LE less than 70 year/Senegal/GDP growth: 24.12%\",\"Subsaharan Countries with current LE less than 70 year/Somalia/GDP growth: 2843.33%\",\"Subsaharan Countries with current LE less than 70 year/Mauritania/GDP growth: 34.97%\",\"Subsaharan Countries with current LE less than 70 year/Ghana/GDP growth: 355.12%\",\"Subsaharan Countries with current LE less than 70 year/Congo, Dem. Rep./GDP growth: 358.67%\",\"Subsaharan Countries with current LE less than 70 year/Comoros/GDP growth: 36.18%\",\"Subsaharan Countries with current LE less than 70 year/Cameroon/GDP growth: 43.78%\",\"Subsaharan Countries with current LE less than 70 year/Mozambique/GDP growth: 5097.46%\",\"Subsaharan Countries with current LE less than 70 year/Congo, Rep./GDP growth: 628.62%\",\"Subsaharan Countries with current LE less than 70 year/Benin/GDP growth: 63.27%\",\"Subsaharan Countries with current LE less than 70 year/Togo/GDP growth: 7.59%\",\"Subsaharan Countries with current LE less than 70 year/Burkina Faso/GDP growth: 76.83%\",\"Subsaharan Countries with current LE less than 70 year/Cote d'Ivoire/GDP growth: 89.18%\",\"Subsaharan Countries with current LE less than 70 year/Uganda/GDP growth: 96.65%\",\"Subsaharan Countries with current LE less than 70 year/Benin\",\"Subsaharan Countries with current LE less than 70 year/Burkina Faso\",\"Subsaharan Countries with current LE less than 70 year/Cameroon\",\"Subsaharan Countries with current LE less than 70 year/Central African Republic\",\"Subsaharan Countries with current LE less than 70 year/Chad\",\"Subsaharan Countries with current LE less than 70 year/Comoros\",\"Subsaharan Countries with current LE less than 70 year/Congo, Dem. Rep.\",\"Subsaharan Countries with current LE less than 70 year/Congo, Rep.\",\"Subsaharan Countries with current LE less than 70 year/Cote d'Ivoire\",\"Subsaharan Countries with current LE less than 70 year/Ethiopia\",\"Subsaharan Countries with current LE less than 70 year/Gambia, The\",\"Subsaharan Countries with current LE less than 70 year/Ghana\",\"Subsaharan Countries with current LE less than 70 year/Guinea\",\"Subsaharan Countries with current LE less than 70 year/Kenya\",\"Subsaharan Countries with current LE less than 70 year/Lesotho\",\"Subsaharan Countries with current LE less than 70 year/Madagascar\",\"Subsaharan Countries with current LE less than 70 year/Mali\",\"Subsaharan Countries with current LE less than 70 year/Mauritania\",\"Subsaharan Countries with current LE less than 70 year/Mozambique\",\"Subsaharan Countries with current LE less than 70 year/Nigeria\",\"Subsaharan Countries with current LE less than 70 year/Sao Tome and Principe\",\"Subsaharan Countries with current LE less than 70 year/Senegal\",\"Subsaharan Countries with current LE less than 70 year/Somalia\",\"Subsaharan Countries with current LE less than 70 year/South Africa\",\"Subsaharan Countries with current LE less than 70 year/Sudan\",\"Subsaharan Countries with current LE less than 70 year/Tanzania\",\"Subsaharan Countries with current LE less than 70 year/Togo\",\"Subsaharan Countries with current LE less than 70 year/Uganda\",\"Subsaharan Countries with current LE less than 70 year/Zambia\",\"Subsaharan Countries with current LE less than 70 year/Zimbabwe\",\"Subsaharan Countries with current LE less than 70 year\"],\"labels\":[\"2022 Life Expectancy: 53 years\",\"2022 Life Expectancy: 53 years\",\"2022 Life Expectancy: 54 years\",\"2022 Life Expectancy: 54 years\",\"2022 Life Expectancy: 56 years\",\"2022 Life Expectancy: 59 years\",\"2022 Life Expectancy: 59 years\",\"2022 Life Expectancy: 59 years\",\"2022 Life Expectancy: 59 years\",\"2022 Life Expectancy: 60 years\",\"2022 Life Expectancy: 60 years\",\"2022 Life Expectancy: 60 years\",\"2022 Life Expectancy: 60 years\",\"2022 Life Expectancy: 61 years\",\"2022 Life Expectancy: 61 years\",\"2022 Life Expectancy: 62 years\",\"2022 Life Expectancy: 62 years\",\"2022 Life Expectancy: 62 years\",\"2022 Life Expectancy: 63 years\",\"2022 Life Expectancy: 63 years\",\"2022 Life Expectancy: 64 years\",\"2022 Life Expectancy: 64 years\",\"2022 Life Expectancy: 64 years\",\"2022 Life Expectancy: 65 years\",\"2022 Life Expectancy: 65 years\",\"2022 Life Expectancy: 66 years\",\"2022 Life Expectancy: 66 years\",\"2022 Life Expectancy: 67 years\",\"2022 Life Expectancy: 68 years\",\"2022 Life Expectancy: 69 years\",\"GDP growth: 115.74%\",\"GDP growth: 122.65%\",\"GDP growth: 13.16%\",\"GDP growth: 132.57%\",\"GDP growth: 141.28%\",\"GDP growth: 149.61%\",\"GDP growth: 154.12%\",\"GDP growth: 160.85%\",\"GDP growth: 1664.79%\",\"GDP growth: 184.73%\",\"GDP growth: 192.73%\",\"GDP growth: 200.67%\",\"GDP growth: 208.3%\",\"GDP growth: 226.83%\",\"GDP growth: 23.0%\",\"GDP growth: 24.03%\",\"GDP growth: 24.12%\",\"GDP growth: 2843.33%\",\"GDP growth: 34.97%\",\"GDP growth: 355.12%\",\"GDP growth: 358.67%\",\"GDP growth: 36.18%\",\"GDP growth: 43.78%\",\"GDP growth: 5097.46%\",\"GDP growth: 628.62%\",\"GDP growth: 63.27%\",\"GDP growth: 7.59%\",\"GDP growth: 76.83%\",\"GDP growth: 89.18%\",\"GDP growth: 96.65%\",\"Benin\",\"Burkina Faso\",\"Cameroon\",\"Central African Republic\",\"Chad\",\"Comoros\",\"Congo, Dem. Rep.\",\"Congo, Rep.\",\"Cote d'Ivoire\",\"Ethiopia\",\"Gambia, The\",\"Ghana\",\"Guinea\",\"Kenya\",\"Lesotho\",\"Madagascar\",\"Mali\",\"Mauritania\",\"Mozambique\",\"Nigeria\",\"Sao Tome and Principe\",\"Senegal\",\"Somalia\",\"South Africa\",\"Sudan\",\"Tanzania\",\"Togo\",\"Uganda\",\"Zambia\",\"Zimbabwe\",\"Subsaharan Countries with current LE less than 70 year\"],\"name\":\"\",\"parents\":[\"Subsaharan Countries with current LE less than 70 year/Chad/GDP growth: 132.57%\",\"Subsaharan Countries with current LE less than 70 year/Lesotho/GDP growth: 1664.79%\",\"Subsaharan Countries with current LE less than 70 year/Nigeria/GDP growth: 122.65%\",\"Subsaharan Countries with current LE less than 70 year/Central African Republic/GDP growth: 208.3%\",\"Subsaharan Countries with current LE less than 70 year/Somalia/GDP growth: 2843.33%\",\"Subsaharan Countries with current LE less than 70 year/Zimbabwe/GDP growth: 13.16%\",\"Subsaharan Countries with current LE less than 70 year/Guinea/GDP growth: 160.85%\",\"Subsaharan Countries with current LE less than 70 year/Mali/GDP growth: 23.0%\",\"Subsaharan Countries with current LE less than 70 year/Cote d'Ivoire/GDP growth: 89.18%\",\"Subsaharan Countries with current LE less than 70 year/Congo, Dem. Rep./GDP growth: 358.67%\",\"Subsaharan Countries with current LE less than 70 year/Mozambique/GDP growth: 5097.46%\",\"Subsaharan Countries with current LE less than 70 year/Benin/GDP growth: 63.27%\",\"Subsaharan Countries with current LE less than 70 year/Burkina Faso/GDP growth: 76.83%\",\"Subsaharan Countries with current LE less than 70 year/South Africa/GDP growth: 24.03%\",\"Subsaharan Countries with current LE less than 70 year/Cameroon/GDP growth: 43.78%\",\"Subsaharan Countries with current LE less than 70 year/Kenya/GDP growth: 141.28%\",\"Subsaharan Countries with current LE less than 70 year/Zambia/GDP growth: 226.83%\",\"Subsaharan Countries with current LE less than 70 year/Togo/GDP growth: 7.59%\",\"Subsaharan Countries with current LE less than 70 year/Gambia, The/GDP growth: 200.67%\",\"Subsaharan Countries with current LE less than 70 year/Congo, Rep./GDP growth: 628.62%\",\"Subsaharan Countries with current LE less than 70 year/Ghana/GDP growth: 355.12%\",\"Subsaharan Countries with current LE less than 70 year/Comoros/GDP growth: 36.18%\",\"Subsaharan Countries with current LE less than 70 year/Uganda/GDP growth: 96.65%\",\"Subsaharan Countries with current LE less than 70 year/Madagascar/GDP growth: 154.12%\",\"Subsaharan Countries with current LE less than 70 year/Mauritania/GDP growth: 34.97%\",\"Subsaharan Countries with current LE less than 70 year/Ethiopia/GDP growth: 115.74%\",\"Subsaharan Countries with current LE less than 70 year/Sudan/GDP growth: 192.73%\",\"Subsaharan Countries with current LE less than 70 year/Tanzania/GDP growth: 149.61%\",\"Subsaharan Countries with current LE less than 70 year/Senegal/GDP growth: 24.12%\",\"Subsaharan Countries with current LE less than 70 year/Sao Tome and Principe/GDP growth: 184.73%\",\"Subsaharan Countries with current LE less than 70 year/Ethiopia\",\"Subsaharan Countries with current LE less than 70 year/Nigeria\",\"Subsaharan Countries with current LE less than 70 year/Zimbabwe\",\"Subsaharan Countries with current LE less than 70 year/Chad\",\"Subsaharan Countries with current LE less than 70 year/Kenya\",\"Subsaharan Countries with current LE less than 70 year/Tanzania\",\"Subsaharan Countries with current LE less than 70 year/Madagascar\",\"Subsaharan Countries with current LE less than 70 year/Guinea\",\"Subsaharan Countries with current LE less than 70 year/Lesotho\",\"Subsaharan Countries with current LE less than 70 year/Sao Tome and Principe\",\"Subsaharan Countries with current LE less than 70 year/Sudan\",\"Subsaharan Countries with current LE less than 70 year/Gambia, The\",\"Subsaharan Countries with current LE less than 70 year/Central African Republic\",\"Subsaharan Countries with current LE less than 70 year/Zambia\",\"Subsaharan Countries with current LE less than 70 year/Mali\",\"Subsaharan Countries with current LE less than 70 year/South Africa\",\"Subsaharan Countries with current LE less than 70 year/Senegal\",\"Subsaharan Countries with current LE less than 70 year/Somalia\",\"Subsaharan Countries with current LE less than 70 year/Mauritania\",\"Subsaharan Countries with current LE less than 70 year/Ghana\",\"Subsaharan Countries with current LE less than 70 year/Congo, Dem. Rep.\",\"Subsaharan Countries with current LE less than 70 year/Comoros\",\"Subsaharan Countries with current LE less than 70 year/Cameroon\",\"Subsaharan Countries with current LE less than 70 year/Mozambique\",\"Subsaharan Countries with current LE less than 70 year/Congo, Rep.\",\"Subsaharan Countries with current LE less than 70 year/Benin\",\"Subsaharan Countries with current LE less than 70 year/Togo\",\"Subsaharan Countries with current LE less than 70 year/Burkina Faso\",\"Subsaharan Countries with current LE less than 70 year/Cote d'Ivoire\",\"Subsaharan Countries with current LE less than 70 year/Uganda\",\"Subsaharan Countries with current LE less than 70 year\",\"Subsaharan Countries with current LE less than 70 year\",\"Subsaharan Countries with current LE less than 70 year\",\"Subsaharan Countries with current LE less than 70 year\",\"Subsaharan Countries with current LE less than 70 year\",\"Subsaharan Countries with current LE less than 70 year\",\"Subsaharan Countries with current LE less than 70 year\",\"Subsaharan Countries with current LE less than 70 year\",\"Subsaharan Countries with current LE less than 70 year\",\"Subsaharan Countries with current LE less than 70 year\",\"Subsaharan Countries with current LE less than 70 year\",\"Subsaharan Countries with current LE less than 70 year\",\"Subsaharan Countries with current LE less than 70 year\",\"Subsaharan Countries with current LE less than 70 year\",\"Subsaharan Countries with current LE less than 70 year\",\"Subsaharan Countries with current LE less than 70 year\",\"Subsaharan Countries with current LE less than 70 year\",\"Subsaharan Countries with current LE less than 70 year\",\"Subsaharan Countries with current LE less than 70 year\",\"Subsaharan Countries with current LE less than 70 year\",\"Subsaharan Countries with current LE less than 70 year\",\"Subsaharan Countries with current LE less than 70 year\",\"Subsaharan Countries with current LE less than 70 year\",\"Subsaharan Countries with current LE less than 70 year\",\"Subsaharan Countries with current LE less than 70 year\",\"Subsaharan Countries with current LE less than 70 year\",\"Subsaharan Countries with current LE less than 70 year\",\"Subsaharan Countries with current LE less than 70 year\",\"Subsaharan Countries with current LE less than 70 year\",\"Subsaharan Countries with current LE less than 70 year\",\"\"],\"values\":[132.57199825885462,1664.7940696951796,122.6546063033632,208.29543989933163,2843.3317958078915,13.162461867443836,160.84687147091253,23.00259324974582,89.17795842584454,358.6726889885024,5097.464541362695,63.27159042036992,76.83018871347751,24.029714234851287,43.77577835909655,141.2768811178622,226.82705676257945,7.588524701926426,200.6732000850441,628.618883859437,355.1180304965724,36.18140545879571,96.64815151466792,154.116359408316,34.97319847070692,115.7358508667612,192.7294273091505,149.61430122709055,24.119552664077208,184.72954457330988,115.7358508667612,122.6546063033632,13.162461867443836,132.57199825885462,141.2768811178622,149.61430122709055,154.116359408316,160.84687147091253,1664.7940696951796,184.72954457330988,192.7294273091505,200.6732000850441,208.29543989933163,226.82705676257945,23.00259324974582,24.029714234851287,24.119552664077208,2843.3317958078915,34.97319847070692,355.1180304965724,358.6726889885024,36.18140545879571,43.77577835909655,5097.464541362695,628.618883859437,63.27159042036992,7.588524701926426,76.83018871347751,89.17795842584454,96.64815151466792,63.27159042036992,76.83018871347751,43.77577835909655,208.29543989933163,132.57199825885462,36.18140545879571,358.6726889885024,628.618883859437,89.17795842584454,115.7358508667612,200.6732000850441,355.1180304965724,160.84687147091253,141.2768811178622,1664.7940696951796,154.116359408316,23.00259324974582,34.97319847070692,5097.464541362695,122.6546063033632,184.72954457330988,24.119552664077208,2843.3317958078915,24.029714234851287,192.7294273091505,149.61430122709055,7.588524701926426,96.64815151466792,226.82705676257945,13.162461867443836,13470.832665573858],\"type\":\"treemap\",\"root\":{\"color\":\"lightgrey\"}}],                        {\"template\":{\"data\":{\"histogram2dcontour\":[{\"type\":\"histogram2dcontour\",\"colorbar\":{\"outlinewidth\":0,\"ticks\":\"\"},\"colorscale\":[[0.0,\"#0d0887\"],[0.1111111111111111,\"#46039f\"],[0.2222222222222222,\"#7201a8\"],[0.3333333333333333,\"#9c179e\"],[0.4444444444444444,\"#bd3786\"],[0.5555555555555556,\"#d8576b\"],[0.6666666666666666,\"#ed7953\"],[0.7777777777777778,\"#fb9f3a\"],[0.8888888888888888,\"#fdca26\"],[1.0,\"#f0f921\"]]}],\"choropleth\":[{\"type\":\"choropleth\",\"colorbar\":{\"outlinewidth\":0,\"ticks\":\"\"}}],\"histogram2d\":[{\"type\":\"histogram2d\",\"colorbar\":{\"outlinewidth\":0,\"ticks\":\"\"},\"colorscale\":[[0.0,\"#0d0887\"],[0.1111111111111111,\"#46039f\"],[0.2222222222222222,\"#7201a8\"],[0.3333333333333333,\"#9c179e\"],[0.4444444444444444,\"#bd3786\"],[0.5555555555555556,\"#d8576b\"],[0.6666666666666666,\"#ed7953\"],[0.7777777777777778,\"#fb9f3a\"],[0.8888888888888888,\"#fdca26\"],[1.0,\"#f0f921\"]]}],\"heatmap\":[{\"type\":\"heatmap\",\"colorbar\":{\"outlinewidth\":0,\"ticks\":\"\"},\"colorscale\":[[0.0,\"#0d0887\"],[0.1111111111111111,\"#46039f\"],[0.2222222222222222,\"#7201a8\"],[0.3333333333333333,\"#9c179e\"],[0.4444444444444444,\"#bd3786\"],[0.5555555555555556,\"#d8576b\"],[0.6666666666666666,\"#ed7953\"],[0.7777777777777778,\"#fb9f3a\"],[0.8888888888888888,\"#fdca26\"],[1.0,\"#f0f921\"]]}],\"heatmapgl\":[{\"type\":\"heatmapgl\",\"colorbar\":{\"outlinewidth\":0,\"ticks\":\"\"},\"colorscale\":[[0.0,\"#0d0887\"],[0.1111111111111111,\"#46039f\"],[0.2222222222222222,\"#7201a8\"],[0.3333333333333333,\"#9c179e\"],[0.4444444444444444,\"#bd3786\"],[0.5555555555555556,\"#d8576b\"],[0.6666666666666666,\"#ed7953\"],[0.7777777777777778,\"#fb9f3a\"],[0.8888888888888888,\"#fdca26\"],[1.0,\"#f0f921\"]]}],\"contourcarpet\":[{\"type\":\"contourcarpet\",\"colorbar\":{\"outlinewidth\":0,\"ticks\":\"\"}}],\"contour\":[{\"type\":\"contour\",\"colorbar\":{\"outlinewidth\":0,\"ticks\":\"\"},\"colorscale\":[[0.0,\"#0d0887\"],[0.1111111111111111,\"#46039f\"],[0.2222222222222222,\"#7201a8\"],[0.3333333333333333,\"#9c179e\"],[0.4444444444444444,\"#bd3786\"],[0.5555555555555556,\"#d8576b\"],[0.6666666666666666,\"#ed7953\"],[0.7777777777777778,\"#fb9f3a\"],[0.8888888888888888,\"#fdca26\"],[1.0,\"#f0f921\"]]}],\"surface\":[{\"type\":\"surface\",\"colorbar\":{\"outlinewidth\":0,\"ticks\":\"\"},\"colorscale\":[[0.0,\"#0d0887\"],[0.1111111111111111,\"#46039f\"],[0.2222222222222222,\"#7201a8\"],[0.3333333333333333,\"#9c179e\"],[0.4444444444444444,\"#bd3786\"],[0.5555555555555556,\"#d8576b\"],[0.6666666666666666,\"#ed7953\"],[0.7777777777777778,\"#fb9f3a\"],[0.8888888888888888,\"#fdca26\"],[1.0,\"#f0f921\"]]}],\"mesh3d\":[{\"type\":\"mesh3d\",\"colorbar\":{\"outlinewidth\":0,\"ticks\":\"\"}}],\"scatter\":[{\"fillpattern\":{\"fillmode\":\"overlay\",\"size\":10,\"solidity\":0.2},\"type\":\"scatter\"}],\"parcoords\":[{\"type\":\"parcoords\",\"line\":{\"colorbar\":{\"outlinewidth\":0,\"ticks\":\"\"}}}],\"scatterpolargl\":[{\"type\":\"scatterpolargl\",\"marker\":{\"colorbar\":{\"outlinewidth\":0,\"ticks\":\"\"}}}],\"bar\":[{\"error_x\":{\"color\":\"#2a3f5f\"},\"error_y\":{\"color\":\"#2a3f5f\"},\"marker\":{\"line\":{\"color\":\"#E5ECF6\",\"width\":0.5},\"pattern\":{\"fillmode\":\"overlay\",\"size\":10,\"solidity\":0.2}},\"type\":\"bar\"}],\"scattergeo\":[{\"type\":\"scattergeo\",\"marker\":{\"colorbar\":{\"outlinewidth\":0,\"ticks\":\"\"}}}],\"scatterpolar\":[{\"type\":\"scatterpolar\",\"marker\":{\"colorbar\":{\"outlinewidth\":0,\"ticks\":\"\"}}}],\"histogram\":[{\"marker\":{\"pattern\":{\"fillmode\":\"overlay\",\"size\":10,\"solidity\":0.2}},\"type\":\"histogram\"}],\"scattergl\":[{\"type\":\"scattergl\",\"marker\":{\"colorbar\":{\"outlinewidth\":0,\"ticks\":\"\"}}}],\"scatter3d\":[{\"type\":\"scatter3d\",\"line\":{\"colorbar\":{\"outlinewidth\":0,\"ticks\":\"\"}},\"marker\":{\"colorbar\":{\"outlinewidth\":0,\"ticks\":\"\"}}}],\"scattermapbox\":[{\"type\":\"scattermapbox\",\"marker\":{\"colorbar\":{\"outlinewidth\":0,\"ticks\":\"\"}}}],\"scatterternary\":[{\"type\":\"scatterternary\",\"marker\":{\"colorbar\":{\"outlinewidth\":0,\"ticks\":\"\"}}}],\"scattercarpet\":[{\"type\":\"scattercarpet\",\"marker\":{\"colorbar\":{\"outlinewidth\":0,\"ticks\":\"\"}}}],\"carpet\":[{\"aaxis\":{\"endlinecolor\":\"#2a3f5f\",\"gridcolor\":\"white\",\"linecolor\":\"white\",\"minorgridcolor\":\"white\",\"startlinecolor\":\"#2a3f5f\"},\"baxis\":{\"endlinecolor\":\"#2a3f5f\",\"gridcolor\":\"white\",\"linecolor\":\"white\",\"minorgridcolor\":\"white\",\"startlinecolor\":\"#2a3f5f\"},\"type\":\"carpet\"}],\"table\":[{\"cells\":{\"fill\":{\"color\":\"#EBF0F8\"},\"line\":{\"color\":\"white\"}},\"header\":{\"fill\":{\"color\":\"#C8D4E3\"},\"line\":{\"color\":\"white\"}},\"type\":\"table\"}],\"barpolar\":[{\"marker\":{\"line\":{\"color\":\"#E5ECF6\",\"width\":0.5},\"pattern\":{\"fillmode\":\"overlay\",\"size\":10,\"solidity\":0.2}},\"type\":\"barpolar\"}],\"pie\":[{\"automargin\":true,\"type\":\"pie\"}]},\"layout\":{\"autotypenumbers\":\"strict\",\"colorway\":[\"#636efa\",\"#EF553B\",\"#00cc96\",\"#ab63fa\",\"#FFA15A\",\"#19d3f3\",\"#FF6692\",\"#B6E880\",\"#FF97FF\",\"#FECB52\"],\"font\":{\"color\":\"#2a3f5f\"},\"hovermode\":\"closest\",\"hoverlabel\":{\"align\":\"left\"},\"paper_bgcolor\":\"white\",\"plot_bgcolor\":\"#E5ECF6\",\"polar\":{\"bgcolor\":\"#E5ECF6\",\"angularaxis\":{\"gridcolor\":\"white\",\"linecolor\":\"white\",\"ticks\":\"\"},\"radialaxis\":{\"gridcolor\":\"white\",\"linecolor\":\"white\",\"ticks\":\"\"}},\"ternary\":{\"bgcolor\":\"#E5ECF6\",\"aaxis\":{\"gridcolor\":\"white\",\"linecolor\":\"white\",\"ticks\":\"\"},\"baxis\":{\"gridcolor\":\"white\",\"linecolor\":\"white\",\"ticks\":\"\"},\"caxis\":{\"gridcolor\":\"white\",\"linecolor\":\"white\",\"ticks\":\"\"}},\"coloraxis\":{\"colorbar\":{\"outlinewidth\":0,\"ticks\":\"\"}},\"colorscale\":{\"sequential\":[[0.0,\"#0d0887\"],[0.1111111111111111,\"#46039f\"],[0.2222222222222222,\"#7201a8\"],[0.3333333333333333,\"#9c179e\"],[0.4444444444444444,\"#bd3786\"],[0.5555555555555556,\"#d8576b\"],[0.6666666666666666,\"#ed7953\"],[0.7777777777777778,\"#fb9f3a\"],[0.8888888888888888,\"#fdca26\"],[1.0,\"#f0f921\"]],\"sequentialminus\":[[0.0,\"#0d0887\"],[0.1111111111111111,\"#46039f\"],[0.2222222222222222,\"#7201a8\"],[0.3333333333333333,\"#9c179e\"],[0.4444444444444444,\"#bd3786\"],[0.5555555555555556,\"#d8576b\"],[0.6666666666666666,\"#ed7953\"],[0.7777777777777778,\"#fb9f3a\"],[0.8888888888888888,\"#fdca26\"],[1.0,\"#f0f921\"]],\"diverging\":[[0,\"#8e0152\"],[0.1,\"#c51b7d\"],[0.2,\"#de77ae\"],[0.3,\"#f1b6da\"],[0.4,\"#fde0ef\"],[0.5,\"#f7f7f7\"],[0.6,\"#e6f5d0\"],[0.7,\"#b8e186\"],[0.8,\"#7fbc41\"],[0.9,\"#4d9221\"],[1,\"#276419\"]]},\"xaxis\":{\"gridcolor\":\"white\",\"linecolor\":\"white\",\"ticks\":\"\",\"title\":{\"standoff\":15},\"zerolinecolor\":\"white\",\"automargin\":true,\"zerolinewidth\":2},\"yaxis\":{\"gridcolor\":\"white\",\"linecolor\":\"white\",\"ticks\":\"\",\"title\":{\"standoff\":15},\"zerolinecolor\":\"white\",\"automargin\":true,\"zerolinewidth\":2},\"scene\":{\"xaxis\":{\"backgroundcolor\":\"#E5ECF6\",\"gridcolor\":\"white\",\"linecolor\":\"white\",\"showbackground\":true,\"ticks\":\"\",\"zerolinecolor\":\"white\",\"gridwidth\":2},\"yaxis\":{\"backgroundcolor\":\"#E5ECF6\",\"gridcolor\":\"white\",\"linecolor\":\"white\",\"showbackground\":true,\"ticks\":\"\",\"zerolinecolor\":\"white\",\"gridwidth\":2},\"zaxis\":{\"backgroundcolor\":\"#E5ECF6\",\"gridcolor\":\"white\",\"linecolor\":\"white\",\"showbackground\":true,\"ticks\":\"\",\"zerolinecolor\":\"white\",\"gridwidth\":2}},\"shapedefaults\":{\"line\":{\"color\":\"#2a3f5f\"}},\"annotationdefaults\":{\"arrowcolor\":\"#2a3f5f\",\"arrowhead\":0,\"arrowwidth\":1},\"geo\":{\"bgcolor\":\"white\",\"landcolor\":\"#E5ECF6\",\"subunitcolor\":\"white\",\"showland\":true,\"showlakes\":true,\"lakecolor\":\"white\"},\"title\":{\"x\":0.05},\"mapbox\":{\"style\":\"light\"}}},\"legend\":{\"tracegroupgap\":0},\"title\":{\"text\":\"% GDP growth required to achieve 70 yrs Life Expectancy\"},\"margin\":{\"t\":50,\"l\":25,\"r\":25,\"b\":25}},                        {\"responsive\": true}                    ).then(function(){\n",
       "                            \n",
       "var gd = document.getElementById('18b96bfc-b440-4710-92db-fb2bfdadad47');\n",
       "var x = new MutationObserver(function (mutations, observer) {{\n",
       "        var display = window.getComputedStyle(gd).display;\n",
       "        if (!display || display === 'none') {{\n",
       "            console.log([gd, 'removed!']);\n",
       "            Plotly.purge(gd);\n",
       "            observer.disconnect();\n",
       "        }}\n",
       "}});\n",
       "\n",
       "// Listen for the removal of the full notebook cells\n",
       "var notebookContainer = gd.closest('#notebook-container');\n",
       "if (notebookContainer) {{\n",
       "    x.observe(notebookContainer, {childList: true});\n",
       "}}\n",
       "\n",
       "// Listen for the clearing of the current output cell\n",
       "var outputEl = gd.closest('.output');\n",
       "if (outputEl) {{\n",
       "    x.observe(outputEl, {childList: true});\n",
       "}}\n",
       "\n",
       "                        })                };                });            </script>        </div>"
      ]
     },
     "metadata": {},
     "output_type": "display_data"
    },
    {
     "name": "stderr",
     "output_type": "stream",
     "text": [
      "C:\\Users\\shanu\\AppData\\Local\\Temp\\ipykernel_31856\\1919305900.py:23: SettingWithCopyWarning:\n",
      "\n",
      "\n",
      "A value is trying to be set on a copy of a slice from a DataFrame.\n",
      "Try using .loc[row_indexer,col_indexer] = value instead\n",
      "\n",
      "See the caveats in the documentation: https://pandas.pydata.org/pandas-docs/stable/user_guide/indexing.html#returning-a-view-versus-a-copy\n",
      "\n",
      "C:\\Users\\shanu\\AppData\\Local\\Temp\\ipykernel_31856\\1919305900.py:24: SettingWithCopyWarning:\n",
      "\n",
      "\n",
      "A value is trying to be set on a copy of a slice from a DataFrame.\n",
      "Try using .loc[row_indexer,col_indexer] = value instead\n",
      "\n",
      "See the caveats in the documentation: https://pandas.pydata.org/pandas-docs/stable/user_guide/indexing.html#returning-a-view-versus-a-copy\n",
      "\n",
      "C:\\Users\\shanu\\AppData\\Local\\Temp\\ipykernel_31856\\1919305900.py:25: SettingWithCopyWarning:\n",
      "\n",
      "\n",
      "A value is trying to be set on a copy of a slice from a DataFrame.\n",
      "Try using .loc[row_indexer,col_indexer] = value instead\n",
      "\n",
      "See the caveats in the documentation: https://pandas.pydata.org/pandas-docs/stable/user_guide/indexing.html#returning-a-view-versus-a-copy\n",
      "\n"
     ]
    },
    {
     "data": {
      "application/vnd.plotly.v1+json": {
       "config": {
        "plotlyServerURL": "https://plot.ly"
       },
       "data": [
        {
         "branchvalues": "total",
         "domain": {
          "x": [
           0,
           1
          ],
          "y": [
           0,
           1
          ]
         },
         "hovertemplate": "labels=%{label}<br>GDP growth=%{value}<br>parent=%{parent}<br>id=%{id}<extra></extra>",
         "ids": [
          "Subsaharan Countries with current LE greater than 70 year/Mauritius/GDP growth: 250.53%/2022 Life Expectancy: 74 years",
          "Subsaharan Countries with current LE greater than 70 year/Cabo Verde/GDP growth: 70.26%/2022 Life Expectancy: 75 years",
          "Subsaharan Countries with current LE greater than 70 year/Mauritius/GDP growth: 250.53%",
          "Subsaharan Countries with current LE greater than 70 year/Cabo Verde/GDP growth: 70.26%",
          "Subsaharan Countries with current LE greater than 70 year/Cabo Verde",
          "Subsaharan Countries with current LE greater than 70 year/Mauritius",
          "Subsaharan Countries with current LE greater than 70 year"
         ],
         "labels": [
          "2022 Life Expectancy: 74 years",
          "2022 Life Expectancy: 75 years",
          "GDP growth: 250.53%",
          "GDP growth: 70.26%",
          "Cabo Verde",
          "Mauritius",
          "Subsaharan Countries with current LE greater than 70 year"
         ],
         "level": "Subsaharan Countries with current LE greater than 70 year",
         "name": "",
         "parents": [
          "Subsaharan Countries with current LE greater than 70 year/Mauritius/GDP growth: 250.53%",
          "Subsaharan Countries with current LE greater than 70 year/Cabo Verde/GDP growth: 70.26%",
          "Subsaharan Countries with current LE greater than 70 year/Mauritius",
          "Subsaharan Countries with current LE greater than 70 year/Cabo Verde",
          "Subsaharan Countries with current LE greater than 70 year",
          "Subsaharan Countries with current LE greater than 70 year",
          ""
         ],
         "root": {
          "color": "lightgrey"
         },
         "type": "treemap",
         "values": [
          250.5293397614984,
          70.25676621166502,
          250.5293397614984,
          70.25676621166502,
          70.25676621166502,
          250.5293397614984,
          320.78610597316344
         ]
        }
       ],
       "layout": {
        "autosize": true,
        "legend": {
         "tracegroupgap": 0
        },
        "margin": {
         "b": 25,
         "l": 25,
         "r": 25,
         "t": 50
        },
        "template": {
         "data": {
          "bar": [
           {
            "error_x": {
             "color": "#2a3f5f"
            },
            "error_y": {
             "color": "#2a3f5f"
            },
            "marker": {
             "line": {
              "color": "#E5ECF6",
              "width": 0.5
             },
             "pattern": {
              "fillmode": "overlay",
              "size": 10,
              "solidity": 0.2
             }
            },
            "type": "bar"
           }
          ],
          "barpolar": [
           {
            "marker": {
             "line": {
              "color": "#E5ECF6",
              "width": 0.5
             },
             "pattern": {
              "fillmode": "overlay",
              "size": 10,
              "solidity": 0.2
             }
            },
            "type": "barpolar"
           }
          ],
          "carpet": [
           {
            "aaxis": {
             "endlinecolor": "#2a3f5f",
             "gridcolor": "white",
             "linecolor": "white",
             "minorgridcolor": "white",
             "startlinecolor": "#2a3f5f"
            },
            "baxis": {
             "endlinecolor": "#2a3f5f",
             "gridcolor": "white",
             "linecolor": "white",
             "minorgridcolor": "white",
             "startlinecolor": "#2a3f5f"
            },
            "type": "carpet"
           }
          ],
          "choropleth": [
           {
            "colorbar": {
             "outlinewidth": 0,
             "ticks": ""
            },
            "type": "choropleth"
           }
          ],
          "contour": [
           {
            "colorbar": {
             "outlinewidth": 0,
             "ticks": ""
            },
            "colorscale": [
             [
              0,
              "#0d0887"
             ],
             [
              0.1111111111111111,
              "#46039f"
             ],
             [
              0.2222222222222222,
              "#7201a8"
             ],
             [
              0.3333333333333333,
              "#9c179e"
             ],
             [
              0.4444444444444444,
              "#bd3786"
             ],
             [
              0.5555555555555556,
              "#d8576b"
             ],
             [
              0.6666666666666666,
              "#ed7953"
             ],
             [
              0.7777777777777778,
              "#fb9f3a"
             ],
             [
              0.8888888888888888,
              "#fdca26"
             ],
             [
              1,
              "#f0f921"
             ]
            ],
            "type": "contour"
           }
          ],
          "contourcarpet": [
           {
            "colorbar": {
             "outlinewidth": 0,
             "ticks": ""
            },
            "type": "contourcarpet"
           }
          ],
          "heatmap": [
           {
            "colorbar": {
             "outlinewidth": 0,
             "ticks": ""
            },
            "colorscale": [
             [
              0,
              "#0d0887"
             ],
             [
              0.1111111111111111,
              "#46039f"
             ],
             [
              0.2222222222222222,
              "#7201a8"
             ],
             [
              0.3333333333333333,
              "#9c179e"
             ],
             [
              0.4444444444444444,
              "#bd3786"
             ],
             [
              0.5555555555555556,
              "#d8576b"
             ],
             [
              0.6666666666666666,
              "#ed7953"
             ],
             [
              0.7777777777777778,
              "#fb9f3a"
             ],
             [
              0.8888888888888888,
              "#fdca26"
             ],
             [
              1,
              "#f0f921"
             ]
            ],
            "type": "heatmap"
           }
          ],
          "heatmapgl": [
           {
            "colorbar": {
             "outlinewidth": 0,
             "ticks": ""
            },
            "colorscale": [
             [
              0,
              "#0d0887"
             ],
             [
              0.1111111111111111,
              "#46039f"
             ],
             [
              0.2222222222222222,
              "#7201a8"
             ],
             [
              0.3333333333333333,
              "#9c179e"
             ],
             [
              0.4444444444444444,
              "#bd3786"
             ],
             [
              0.5555555555555556,
              "#d8576b"
             ],
             [
              0.6666666666666666,
              "#ed7953"
             ],
             [
              0.7777777777777778,
              "#fb9f3a"
             ],
             [
              0.8888888888888888,
              "#fdca26"
             ],
             [
              1,
              "#f0f921"
             ]
            ],
            "type": "heatmapgl"
           }
          ],
          "histogram": [
           {
            "marker": {
             "pattern": {
              "fillmode": "overlay",
              "size": 10,
              "solidity": 0.2
             }
            },
            "type": "histogram"
           }
          ],
          "histogram2d": [
           {
            "colorbar": {
             "outlinewidth": 0,
             "ticks": ""
            },
            "colorscale": [
             [
              0,
              "#0d0887"
             ],
             [
              0.1111111111111111,
              "#46039f"
             ],
             [
              0.2222222222222222,
              "#7201a8"
             ],
             [
              0.3333333333333333,
              "#9c179e"
             ],
             [
              0.4444444444444444,
              "#bd3786"
             ],
             [
              0.5555555555555556,
              "#d8576b"
             ],
             [
              0.6666666666666666,
              "#ed7953"
             ],
             [
              0.7777777777777778,
              "#fb9f3a"
             ],
             [
              0.8888888888888888,
              "#fdca26"
             ],
             [
              1,
              "#f0f921"
             ]
            ],
            "type": "histogram2d"
           }
          ],
          "histogram2dcontour": [
           {
            "colorbar": {
             "outlinewidth": 0,
             "ticks": ""
            },
            "colorscale": [
             [
              0,
              "#0d0887"
             ],
             [
              0.1111111111111111,
              "#46039f"
             ],
             [
              0.2222222222222222,
              "#7201a8"
             ],
             [
              0.3333333333333333,
              "#9c179e"
             ],
             [
              0.4444444444444444,
              "#bd3786"
             ],
             [
              0.5555555555555556,
              "#d8576b"
             ],
             [
              0.6666666666666666,
              "#ed7953"
             ],
             [
              0.7777777777777778,
              "#fb9f3a"
             ],
             [
              0.8888888888888888,
              "#fdca26"
             ],
             [
              1,
              "#f0f921"
             ]
            ],
            "type": "histogram2dcontour"
           }
          ],
          "mesh3d": [
           {
            "colorbar": {
             "outlinewidth": 0,
             "ticks": ""
            },
            "type": "mesh3d"
           }
          ],
          "parcoords": [
           {
            "line": {
             "colorbar": {
              "outlinewidth": 0,
              "ticks": ""
             }
            },
            "type": "parcoords"
           }
          ],
          "pie": [
           {
            "automargin": true,
            "type": "pie"
           }
          ],
          "scatter": [
           {
            "fillpattern": {
             "fillmode": "overlay",
             "size": 10,
             "solidity": 0.2
            },
            "type": "scatter"
           }
          ],
          "scatter3d": [
           {
            "line": {
             "colorbar": {
              "outlinewidth": 0,
              "ticks": ""
             }
            },
            "marker": {
             "colorbar": {
              "outlinewidth": 0,
              "ticks": ""
             }
            },
            "type": "scatter3d"
           }
          ],
          "scattercarpet": [
           {
            "marker": {
             "colorbar": {
              "outlinewidth": 0,
              "ticks": ""
             }
            },
            "type": "scattercarpet"
           }
          ],
          "scattergeo": [
           {
            "marker": {
             "colorbar": {
              "outlinewidth": 0,
              "ticks": ""
             }
            },
            "type": "scattergeo"
           }
          ],
          "scattergl": [
           {
            "marker": {
             "colorbar": {
              "outlinewidth": 0,
              "ticks": ""
             }
            },
            "type": "scattergl"
           }
          ],
          "scattermapbox": [
           {
            "marker": {
             "colorbar": {
              "outlinewidth": 0,
              "ticks": ""
             }
            },
            "type": "scattermapbox"
           }
          ],
          "scatterpolar": [
           {
            "marker": {
             "colorbar": {
              "outlinewidth": 0,
              "ticks": ""
             }
            },
            "type": "scatterpolar"
           }
          ],
          "scatterpolargl": [
           {
            "marker": {
             "colorbar": {
              "outlinewidth": 0,
              "ticks": ""
             }
            },
            "type": "scatterpolargl"
           }
          ],
          "scatterternary": [
           {
            "marker": {
             "colorbar": {
              "outlinewidth": 0,
              "ticks": ""
             }
            },
            "type": "scatterternary"
           }
          ],
          "surface": [
           {
            "colorbar": {
             "outlinewidth": 0,
             "ticks": ""
            },
            "colorscale": [
             [
              0,
              "#0d0887"
             ],
             [
              0.1111111111111111,
              "#46039f"
             ],
             [
              0.2222222222222222,
              "#7201a8"
             ],
             [
              0.3333333333333333,
              "#9c179e"
             ],
             [
              0.4444444444444444,
              "#bd3786"
             ],
             [
              0.5555555555555556,
              "#d8576b"
             ],
             [
              0.6666666666666666,
              "#ed7953"
             ],
             [
              0.7777777777777778,
              "#fb9f3a"
             ],
             [
              0.8888888888888888,
              "#fdca26"
             ],
             [
              1,
              "#f0f921"
             ]
            ],
            "type": "surface"
           }
          ],
          "table": [
           {
            "cells": {
             "fill": {
              "color": "#EBF0F8"
             },
             "line": {
              "color": "white"
             }
            },
            "header": {
             "fill": {
              "color": "#C8D4E3"
             },
             "line": {
              "color": "white"
             }
            },
            "type": "table"
           }
          ]
         },
         "layout": {
          "annotationdefaults": {
           "arrowcolor": "#2a3f5f",
           "arrowhead": 0,
           "arrowwidth": 1
          },
          "autotypenumbers": "strict",
          "coloraxis": {
           "colorbar": {
            "outlinewidth": 0,
            "ticks": ""
           }
          },
          "colorscale": {
           "diverging": [
            [
             0,
             "#8e0152"
            ],
            [
             0.1,
             "#c51b7d"
            ],
            [
             0.2,
             "#de77ae"
            ],
            [
             0.3,
             "#f1b6da"
            ],
            [
             0.4,
             "#fde0ef"
            ],
            [
             0.5,
             "#f7f7f7"
            ],
            [
             0.6,
             "#e6f5d0"
            ],
            [
             0.7,
             "#b8e186"
            ],
            [
             0.8,
             "#7fbc41"
            ],
            [
             0.9,
             "#4d9221"
            ],
            [
             1,
             "#276419"
            ]
           ],
           "sequential": [
            [
             0,
             "#0d0887"
            ],
            [
             0.1111111111111111,
             "#46039f"
            ],
            [
             0.2222222222222222,
             "#7201a8"
            ],
            [
             0.3333333333333333,
             "#9c179e"
            ],
            [
             0.4444444444444444,
             "#bd3786"
            ],
            [
             0.5555555555555556,
             "#d8576b"
            ],
            [
             0.6666666666666666,
             "#ed7953"
            ],
            [
             0.7777777777777778,
             "#fb9f3a"
            ],
            [
             0.8888888888888888,
             "#fdca26"
            ],
            [
             1,
             "#f0f921"
            ]
           ],
           "sequentialminus": [
            [
             0,
             "#0d0887"
            ],
            [
             0.1111111111111111,
             "#46039f"
            ],
            [
             0.2222222222222222,
             "#7201a8"
            ],
            [
             0.3333333333333333,
             "#9c179e"
            ],
            [
             0.4444444444444444,
             "#bd3786"
            ],
            [
             0.5555555555555556,
             "#d8576b"
            ],
            [
             0.6666666666666666,
             "#ed7953"
            ],
            [
             0.7777777777777778,
             "#fb9f3a"
            ],
            [
             0.8888888888888888,
             "#fdca26"
            ],
            [
             1,
             "#f0f921"
            ]
           ]
          },
          "colorway": [
           "#636efa",
           "#EF553B",
           "#00cc96",
           "#ab63fa",
           "#FFA15A",
           "#19d3f3",
           "#FF6692",
           "#B6E880",
           "#FF97FF",
           "#FECB52"
          ],
          "font": {
           "color": "#2a3f5f"
          },
          "geo": {
           "bgcolor": "white",
           "lakecolor": "white",
           "landcolor": "#E5ECF6",
           "showlakes": true,
           "showland": true,
           "subunitcolor": "white"
          },
          "hoverlabel": {
           "align": "left"
          },
          "hovermode": "closest",
          "mapbox": {
           "style": "light"
          },
          "paper_bgcolor": "white",
          "plot_bgcolor": "#E5ECF6",
          "polar": {
           "angularaxis": {
            "gridcolor": "white",
            "linecolor": "white",
            "ticks": ""
           },
           "bgcolor": "#E5ECF6",
           "radialaxis": {
            "gridcolor": "white",
            "linecolor": "white",
            "ticks": ""
           }
          },
          "scene": {
           "xaxis": {
            "backgroundcolor": "#E5ECF6",
            "gridcolor": "white",
            "gridwidth": 2,
            "linecolor": "white",
            "showbackground": true,
            "ticks": "",
            "zerolinecolor": "white"
           },
           "yaxis": {
            "backgroundcolor": "#E5ECF6",
            "gridcolor": "white",
            "gridwidth": 2,
            "linecolor": "white",
            "showbackground": true,
            "ticks": "",
            "zerolinecolor": "white"
           },
           "zaxis": {
            "backgroundcolor": "#E5ECF6",
            "gridcolor": "white",
            "gridwidth": 2,
            "linecolor": "white",
            "showbackground": true,
            "ticks": "",
            "zerolinecolor": "white"
           }
          },
          "shapedefaults": {
           "line": {
            "color": "#2a3f5f"
           }
          },
          "ternary": {
           "aaxis": {
            "gridcolor": "white",
            "linecolor": "white",
            "ticks": ""
           },
           "baxis": {
            "gridcolor": "white",
            "linecolor": "white",
            "ticks": ""
           },
           "bgcolor": "#E5ECF6",
           "caxis": {
            "gridcolor": "white",
            "linecolor": "white",
            "ticks": ""
           }
          },
          "title": {
           "x": 0.05
          },
          "xaxis": {
           "automargin": true,
           "gridcolor": "white",
           "linecolor": "white",
           "ticks": "",
           "title": {
            "standoff": 15
           },
           "zerolinecolor": "white",
           "zerolinewidth": 2
          },
          "yaxis": {
           "automargin": true,
           "gridcolor": "white",
           "linecolor": "white",
           "ticks": "",
           "title": {
            "standoff": 15
           },
           "zerolinecolor": "white",
           "zerolinewidth": 2
          }
         }
        },
        "title": {
         "text": "% GDP growth required to achieve 80 yrs Life Expectancy"
        }
       }
      },
      "image/png": "[encoded data removed]",
      "text/html": [
       "<div>                            <div id=\"d6237e61-71e5-442e-836c-a8996531072e\" class=\"plotly-graph-div\" style=\"height:525px; width:100%;\"></div>            <script type=\"text/javascript\">                require([\"plotly\"], function(Plotly) {                    window.PLOTLYENV=window.PLOTLYENV || {};                                    if (document.getElementById(\"d6237e61-71e5-442e-836c-a8996531072e\")) {                    Plotly.newPlot(                        \"d6237e61-71e5-442e-836c-a8996531072e\",                        [{\"branchvalues\":\"total\",\"domain\":{\"x\":[0.0,1.0],\"y\":[0.0,1.0]},\"hovertemplate\":\"labels=%{label}<br>GDP growth=%{value}<br>parent=%{parent}<br>id=%{id}<extra></extra>\",\"ids\":[\"Subsaharan Countries with current LE greater than 70 year/Mauritius/GDP growth: 250.53%/2022 Life Expectancy: 74 years\",\"Subsaharan Countries with current LE greater than 70 year/Cabo Verde/GDP growth: 70.26%/2022 Life Expectancy: 75 years\",\"Subsaharan Countries with current LE greater than 70 year/Mauritius/GDP growth: 250.53%\",\"Subsaharan Countries with current LE greater than 70 year/Cabo Verde/GDP growth: 70.26%\",\"Subsaharan Countries with current LE greater than 70 year/Cabo Verde\",\"Subsaharan Countries with current LE greater than 70 year/Mauritius\",\"Subsaharan Countries with current LE greater than 70 year\"],\"labels\":[\"2022 Life Expectancy: 74 years\",\"2022 Life Expectancy: 75 years\",\"GDP growth: 250.53%\",\"GDP growth: 70.26%\",\"Cabo Verde\",\"Mauritius\",\"Subsaharan Countries with current LE greater than 70 year\"],\"name\":\"\",\"parents\":[\"Subsaharan Countries with current LE greater than 70 year/Mauritius/GDP growth: 250.53%\",\"Subsaharan Countries with current LE greater than 70 year/Cabo Verde/GDP growth: 70.26%\",\"Subsaharan Countries with current LE greater than 70 year/Mauritius\",\"Subsaharan Countries with current LE greater than 70 year/Cabo Verde\",\"Subsaharan Countries with current LE greater than 70 year\",\"Subsaharan Countries with current LE greater than 70 year\",\"\"],\"values\":[250.5293397614984,70.25676621166502,250.5293397614984,70.25676621166502,70.25676621166502,250.5293397614984,320.78610597316344],\"type\":\"treemap\",\"root\":{\"color\":\"lightgrey\"}}],                        {\"template\":{\"data\":{\"histogram2dcontour\":[{\"type\":\"histogram2dcontour\",\"colorbar\":{\"outlinewidth\":0,\"ticks\":\"\"},\"colorscale\":[[0.0,\"#0d0887\"],[0.1111111111111111,\"#46039f\"],[0.2222222222222222,\"#7201a8\"],[0.3333333333333333,\"#9c179e\"],[0.4444444444444444,\"#bd3786\"],[0.5555555555555556,\"#d8576b\"],[0.6666666666666666,\"#ed7953\"],[0.7777777777777778,\"#fb9f3a\"],[0.8888888888888888,\"#fdca26\"],[1.0,\"#f0f921\"]]}],\"choropleth\":[{\"type\":\"choropleth\",\"colorbar\":{\"outlinewidth\":0,\"ticks\":\"\"}}],\"histogram2d\":[{\"type\":\"histogram2d\",\"colorbar\":{\"outlinewidth\":0,\"ticks\":\"\"},\"colorscale\":[[0.0,\"#0d0887\"],[0.1111111111111111,\"#46039f\"],[0.2222222222222222,\"#7201a8\"],[0.3333333333333333,\"#9c179e\"],[0.4444444444444444,\"#bd3786\"],[0.5555555555555556,\"#d8576b\"],[0.6666666666666666,\"#ed7953\"],[0.7777777777777778,\"#fb9f3a\"],[0.8888888888888888,\"#fdca26\"],[1.0,\"#f0f921\"]]}],\"heatmap\":[{\"type\":\"heatmap\",\"colorbar\":{\"outlinewidth\":0,\"ticks\":\"\"},\"colorscale\":[[0.0,\"#0d0887\"],[0.1111111111111111,\"#46039f\"],[0.2222222222222222,\"#7201a8\"],[0.3333333333333333,\"#9c179e\"],[0.4444444444444444,\"#bd3786\"],[0.5555555555555556,\"#d8576b\"],[0.6666666666666666,\"#ed7953\"],[0.7777777777777778,\"#fb9f3a\"],[0.8888888888888888,\"#fdca26\"],[1.0,\"#f0f921\"]]}],\"heatmapgl\":[{\"type\":\"heatmapgl\",\"colorbar\":{\"outlinewidth\":0,\"ticks\":\"\"},\"colorscale\":[[0.0,\"#0d0887\"],[0.1111111111111111,\"#46039f\"],[0.2222222222222222,\"#7201a8\"],[0.3333333333333333,\"#9c179e\"],[0.4444444444444444,\"#bd3786\"],[0.5555555555555556,\"#d8576b\"],[0.6666666666666666,\"#ed7953\"],[0.7777777777777778,\"#fb9f3a\"],[0.8888888888888888,\"#fdca26\"],[1.0,\"#f0f921\"]]}],\"contourcarpet\":[{\"type\":\"contourcarpet\",\"colorbar\":{\"outlinewidth\":0,\"ticks\":\"\"}}],\"contour\":[{\"type\":\"contour\",\"colorbar\":{\"outlinewidth\":0,\"ticks\":\"\"},\"colorscale\":[[0.0,\"#0d0887\"],[0.1111111111111111,\"#46039f\"],[0.2222222222222222,\"#7201a8\"],[0.3333333333333333,\"#9c179e\"],[0.4444444444444444,\"#bd3786\"],[0.5555555555555556,\"#d8576b\"],[0.6666666666666666,\"#ed7953\"],[0.7777777777777778,\"#fb9f3a\"],[0.8888888888888888,\"#fdca26\"],[1.0,\"#f0f921\"]]}],\"surface\":[{\"type\":\"surface\",\"colorbar\":{\"outlinewidth\":0,\"ticks\":\"\"},\"colorscale\":[[0.0,\"#0d0887\"],[0.1111111111111111,\"#46039f\"],[0.2222222222222222,\"#7201a8\"],[0.3333333333333333,\"#9c179e\"],[0.4444444444444444,\"#bd3786\"],[0.5555555555555556,\"#d8576b\"],[0.6666666666666666,\"#ed7953\"],[0.7777777777777778,\"#fb9f3a\"],[0.8888888888888888,\"#fdca26\"],[1.0,\"#f0f921\"]]}],\"mesh3d\":[{\"type\":\"mesh3d\",\"colorbar\":{\"outlinewidth\":0,\"ticks\":\"\"}}],\"scatter\":[{\"fillpattern\":{\"fillmode\":\"overlay\",\"size\":10,\"solidity\":0.2},\"type\":\"scatter\"}],\"parcoords\":[{\"type\":\"parcoords\",\"line\":{\"colorbar\":{\"outlinewidth\":0,\"ticks\":\"\"}}}],\"scatterpolargl\":[{\"type\":\"scatterpolargl\",\"marker\":{\"colorbar\":{\"outlinewidth\":0,\"ticks\":\"\"}}}],\"bar\":[{\"error_x\":{\"color\":\"#2a3f5f\"},\"error_y\":{\"color\":\"#2a3f5f\"},\"marker\":{\"line\":{\"color\":\"#E5ECF6\",\"width\":0.5},\"pattern\":{\"fillmode\":\"overlay\",\"size\":10,\"solidity\":0.2}},\"type\":\"bar\"}],\"scattergeo\":[{\"type\":\"scattergeo\",\"marker\":{\"colorbar\":{\"outlinewidth\":0,\"ticks\":\"\"}}}],\"scatterpolar\":[{\"type\":\"scatterpolar\",\"marker\":{\"colorbar\":{\"outlinewidth\":0,\"ticks\":\"\"}}}],\"histogram\":[{\"marker\":{\"pattern\":{\"fillmode\":\"overlay\",\"size\":10,\"solidity\":0.2}},\"type\":\"histogram\"}],\"scattergl\":[{\"type\":\"scattergl\",\"marker\":{\"colorbar\":{\"outlinewidth\":0,\"ticks\":\"\"}}}],\"scatter3d\":[{\"type\":\"scatter3d\",\"line\":{\"colorbar\":{\"outlinewidth\":0,\"ticks\":\"\"}},\"marker\":{\"colorbar\":{\"outlinewidth\":0,\"ticks\":\"\"}}}],\"scattermapbox\":[{\"type\":\"scattermapbox\",\"marker\":{\"colorbar\":{\"outlinewidth\":0,\"ticks\":\"\"}}}],\"scatterternary\":[{\"type\":\"scatterternary\",\"marker\":{\"colorbar\":{\"outlinewidth\":0,\"ticks\":\"\"}}}],\"scattercarpet\":[{\"type\":\"scattercarpet\",\"marker\":{\"colorbar\":{\"outlinewidth\":0,\"ticks\":\"\"}}}],\"carpet\":[{\"aaxis\":{\"endlinecolor\":\"#2a3f5f\",\"gridcolor\":\"white\",\"linecolor\":\"white\",\"minorgridcolor\":\"white\",\"startlinecolor\":\"#2a3f5f\"},\"baxis\":{\"endlinecolor\":\"#2a3f5f\",\"gridcolor\":\"white\",\"linecolor\":\"white\",\"minorgridcolor\":\"white\",\"startlinecolor\":\"#2a3f5f\"},\"type\":\"carpet\"}],\"table\":[{\"cells\":{\"fill\":{\"color\":\"#EBF0F8\"},\"line\":{\"color\":\"white\"}},\"header\":{\"fill\":{\"color\":\"#C8D4E3\"},\"line\":{\"color\":\"white\"}},\"type\":\"table\"}],\"barpolar\":[{\"marker\":{\"line\":{\"color\":\"#E5ECF6\",\"width\":0.5},\"pattern\":{\"fillmode\":\"overlay\",\"size\":10,\"solidity\":0.2}},\"type\":\"barpolar\"}],\"pie\":[{\"automargin\":true,\"type\":\"pie\"}]},\"layout\":{\"autotypenumbers\":\"strict\",\"colorway\":[\"#636efa\",\"#EF553B\",\"#00cc96\",\"#ab63fa\",\"#FFA15A\",\"#19d3f3\",\"#FF6692\",\"#B6E880\",\"#FF97FF\",\"#FECB52\"],\"font\":{\"color\":\"#2a3f5f\"},\"hovermode\":\"closest\",\"hoverlabel\":{\"align\":\"left\"},\"paper_bgcolor\":\"white\",\"plot_bgcolor\":\"#E5ECF6\",\"polar\":{\"bgcolor\":\"#E5ECF6\",\"angularaxis\":{\"gridcolor\":\"white\",\"linecolor\":\"white\",\"ticks\":\"\"},\"radialaxis\":{\"gridcolor\":\"white\",\"linecolor\":\"white\",\"ticks\":\"\"}},\"ternary\":{\"bgcolor\":\"#E5ECF6\",\"aaxis\":{\"gridcolor\":\"white\",\"linecolor\":\"white\",\"ticks\":\"\"},\"baxis\":{\"gridcolor\":\"white\",\"linecolor\":\"white\",\"ticks\":\"\"},\"caxis\":{\"gridcolor\":\"white\",\"linecolor\":\"white\",\"ticks\":\"\"}},\"coloraxis\":{\"colorbar\":{\"outlinewidth\":0,\"ticks\":\"\"}},\"colorscale\":{\"sequential\":[[0.0,\"#0d0887\"],[0.1111111111111111,\"#46039f\"],[0.2222222222222222,\"#7201a8\"],[0.3333333333333333,\"#9c179e\"],[0.4444444444444444,\"#bd3786\"],[0.5555555555555556,\"#d8576b\"],[0.6666666666666666,\"#ed7953\"],[0.7777777777777778,\"#fb9f3a\"],[0.8888888888888888,\"#fdca26\"],[1.0,\"#f0f921\"]],\"sequentialminus\":[[0.0,\"#0d0887\"],[0.1111111111111111,\"#46039f\"],[0.2222222222222222,\"#7201a8\"],[0.3333333333333333,\"#9c179e\"],[0.4444444444444444,\"#bd3786\"],[0.5555555555555556,\"#d8576b\"],[0.6666666666666666,\"#ed7953\"],[0.7777777777777778,\"#fb9f3a\"],[0.8888888888888888,\"#fdca26\"],[1.0,\"#f0f921\"]],\"diverging\":[[0,\"#8e0152\"],[0.1,\"#c51b7d\"],[0.2,\"#de77ae\"],[0.3,\"#f1b6da\"],[0.4,\"#fde0ef\"],[0.5,\"#f7f7f7\"],[0.6,\"#e6f5d0\"],[0.7,\"#b8e186\"],[0.8,\"#7fbc41\"],[0.9,\"#4d9221\"],[1,\"#276419\"]]},\"xaxis\":{\"gridcolor\":\"white\",\"linecolor\":\"white\",\"ticks\":\"\",\"title\":{\"standoff\":15},\"zerolinecolor\":\"white\",\"automargin\":true,\"zerolinewidth\":2},\"yaxis\":{\"gridcolor\":\"white\",\"linecolor\":\"white\",\"ticks\":\"\",\"title\":{\"standoff\":15},\"zerolinecolor\":\"white\",\"automargin\":true,\"zerolinewidth\":2},\"scene\":{\"xaxis\":{\"backgroundcolor\":\"#E5ECF6\",\"gridcolor\":\"white\",\"linecolor\":\"white\",\"showbackground\":true,\"ticks\":\"\",\"zerolinecolor\":\"white\",\"gridwidth\":2},\"yaxis\":{\"backgroundcolor\":\"#E5ECF6\",\"gridcolor\":\"white\",\"linecolor\":\"white\",\"showbackground\":true,\"ticks\":\"\",\"zerolinecolor\":\"white\",\"gridwidth\":2},\"zaxis\":{\"backgroundcolor\":\"#E5ECF6\",\"gridcolor\":\"white\",\"linecolor\":\"white\",\"showbackground\":true,\"ticks\":\"\",\"zerolinecolor\":\"white\",\"gridwidth\":2}},\"shapedefaults\":{\"line\":{\"color\":\"#2a3f5f\"}},\"annotationdefaults\":{\"arrowcolor\":\"#2a3f5f\",\"arrowhead\":0,\"arrowwidth\":1},\"geo\":{\"bgcolor\":\"white\",\"landcolor\":\"#E5ECF6\",\"subunitcolor\":\"white\",\"showland\":true,\"showlakes\":true,\"lakecolor\":\"white\"},\"title\":{\"x\":0.05},\"mapbox\":{\"style\":\"light\"}}},\"legend\":{\"tracegroupgap\":0},\"title\":{\"text\":\"% GDP growth required to achieve 80 yrs Life Expectancy\"},\"margin\":{\"t\":50,\"l\":25,\"r\":25,\"b\":25}},                        {\"responsive\": true}                    ).then(function(){\n",
       "                            \n",
       "var gd = document.getElementById('d6237e61-71e5-442e-836c-a8996531072e');\n",
       "var x = new MutationObserver(function (mutations, observer) {{\n",
       "        var display = window.getComputedStyle(gd).display;\n",
       "        if (!display || display === 'none') {{\n",
       "            console.log([gd, 'removed!']);\n",
       "            Plotly.purge(gd);\n",
       "            observer.disconnect();\n",
       "        }}\n",
       "}});\n",
       "\n",
       "// Listen for the removal of the full notebook cells\n",
       "var notebookContainer = gd.closest('#notebook-container');\n",
       "if (notebookContainer) {{\n",
       "    x.observe(notebookContainer, {childList: true});\n",
       "}}\n",
       "\n",
       "// Listen for the clearing of the current output cell\n",
       "var outputEl = gd.closest('.output');\n",
       "if (outputEl) {{\n",
       "    x.observe(outputEl, {childList: true});\n",
       "}}\n",
       "\n",
       "                        })                };                });            </script>        </div>"
      ]
     },
     "metadata": {},
     "output_type": "display_data"
    }
   ],
   "source": [
    "import pandas as pd\n",
    "import plotly.express as px\n",
    "\n",
    "\n",
    "data = pd.read_csv(\"data/output.csv\")\n",
    "df = pd.DataFrame(data)\n",
    "\n",
    "#code to create the treemap for subsaharan countries with 2022 life expectancy less than 70 years\n",
    "df_70=df[(df['flag70'] == 0) & (df['GDP growth'] > 0) & (df['Country'] != 'Namibia')]\n",
    "df_70['GDP_text'] = 'GDP growth: '+df_70['GDP growth'].round(2).astype(str) + '%'\n",
    "df_70['LE_text'] = '2022 Life Expectancy: '+ df_70['LE2022'].round(0).astype(int).astype(str) + \" years\"\n",
    "df_70['Parent'] = 'Subsaharan Countries with current LE less than 70 year'\n",
    "fig = px.treemap(df_70,path=['Parent','Country','GDP_text','LE_text'], values=\"GDP growth\",\n",
    "                 #hover_data=['GDP_text','LE_text'],\n",
    "                 title='% GDP growth required to achieve 70 yrs Life Expectancy')\n",
    "fig.update_traces(root_color=\"lightgrey\")\n",
    "fig.update_layout(margin = dict(t=50, l=25, r=25, b=25))\n",
    "fig.show()\n",
    "\n",
    "#code to create the treemap for subsaharan countries with 2022 life expectancy greater than 70 years\n",
    "df_75=df[(df['flag70'] == 1) & (df['GDP growth'] > 0)  & (df['Country'] != 'Seychelles') ]\n",
    "#df_70=df[(df['flag70'] == 0) & (df['GDP growth'] > 0) & (df['Country'] != 'Namibia')]\n",
    "df_75['GDP_text'] = 'GDP growth: '+df_75['GDP growth'].round(2).astype(str) + '%'\n",
    "df_75['LE_text'] = '2022 Life Expectancy: '+ df_75['LE2022'].round(0).astype(int).astype(str) + \" years\"\n",
    "df_75['Parent'] = 'Subsaharan Countries with current LE greater than 70 year'\n",
    "fig = px.treemap(df_75,path=['Parent','Country','GDP_text','LE_text'], values=\"GDP growth\",\n",
    "                 #hover_data=['GDP_text','LE_text'],\n",
    "                 title='% GDP growth required to achieve 80 yrs Life Expectancy')\n",
    "fig.update_traces(root_color=\"lightgrey\")\n",
    "fig.update_layout(margin = dict(t=50, l=25, r=25, b=25))\n",
    "fig.show()\n",
    "\n",
    "\n",
    "\n",
    "\n"
   ]
  },
  {
   "cell_type": "code",
   "execution_count": null,
   "id": "3f8088da-5ea1-4f80-88d2-ffb44f3f288b",
   "metadata": {},
   "outputs": [],
   "source": []
  }
 ],
 "metadata": {
  "kernelspec": {
   "display_name": "Python 3 (ipykernel)",
   "language": "python",
   "name": "python3"
  },
  "language_info": {
   "codemirror_mode": {
    "name": "ipython",
    "version": 3
   },
   "file_extension": ".py",
   "mimetype": "text/x-python",
   "name": "python",
   "nbconvert_exporter": "python",
   "pygments_lexer": "ipython3",
   "version": "3.10.9"
  }
 },
 "nbformat": 4,
 "nbformat_minor": 5
}
