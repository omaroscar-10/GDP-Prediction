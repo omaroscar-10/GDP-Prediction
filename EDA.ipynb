{
 "cells": [
  {
   "cell_type": "code",
   "execution_count": 2,
   "id": "bd40ef2c-6e4f-4278-8dba-8db6dc8a5a68",
   "metadata": {},
   "outputs": [
    {
     "data": {
      "application/vnd.jupyter.widget-view+json": {
       "model_id": "b95b57acaece413d80a6287904dc99b4",
       "version_major": 2,
       "version_minor": 0
      },
      "text/plain": [
       "Summarize dataset:   0%|          | 0/5 [00:00<?, ?it/s]"
      ]
     },
     "metadata": {},
     "output_type": "display_data"
    },
    {
     "data": {
      "application/vnd.jupyter.widget-view+json": {
       "model_id": "38b95f1e65b640a1841bb14f9c68de75",
       "version_major": 2,
       "version_minor": 0
      },
      "text/plain": [
       "Generate report structure:   0%|          | 0/1 [00:00<?, ?it/s]"
      ]
     },
     "metadata": {},
     "output_type": "display_data"
    },
    {
     "data": {
      "application/vnd.jupyter.widget-view+json": {
       "model_id": "31ac8423998f4540a9c5df16aee035cd",
       "version_major": 2,
       "version_minor": 0
      },
      "text/plain": [
       "Render HTML:   0%|          | 0/1 [00:00<?, ?it/s]"
      ]
     },
     "metadata": {},
     "output_type": "display_data"
    },
    {
     "data": {
      "application/vnd.jupyter.widget-view+json": {
       "model_id": "f8742a9228114ace8046c01ed2684e05",
       "version_major": 2,
       "version_minor": 0
      },
      "text/plain": [
       "Export report to file:   0%|          | 0/1 [00:00<?, ?it/s]"
      ]
     },
     "metadata": {},
     "output_type": "display_data"
    }
   ],
   "source": [
    "# install the ydata-profiling package\n",
    "\n",
    "import pandas as pd\n",
    "from ydata_profiling import ProfileReport\n",
    "# use load_iris \n",
    "ssa = pd.read_csv(\"C:/Users/shanu/Documents/Zambia.csv\")\n",
    "# convert into a pandas data frame\n",
    "\n",
    "df = pd.DataFrame(ssa)\n",
    "for col in df.columns:\n",
    "    df[col].fillna(df[col].mean(), inplace=True)\n",
    "\n",
    "#df['Country Name'] = df['Country Name'].astype('category')\n",
    "#df.head()\n",
    "#result = df.dtypes\n",
    "#result\n",
    "\n",
    "# # load the ydata_profiling package\n",
    "\n",
    "# # use ProfileReport\n",
    "pr_df = ProfileReport(df,title=\"Zambia EDA\")\n",
    "pr_df.to_file(\"Zambia_report.html\")\n",
    "# # show pr_df\n"
   ]
  },
  {
   "cell_type": "code",
   "execution_count": 7,
   "id": "ad07f5ab-fe24-44c6-9386-bf809e1320be",
   "metadata": {},
   "outputs": [
    {
     "name": "stderr",
     "output_type": "stream",
     "text": [
      "C:\\Users\\shanu\\AppData\\Local\\Temp\\ipykernel_22572\\1395918530.py:19: FutureWarning: The frame.append method is deprecated and will be removed from pandas in a future version. Use pandas.concat instead.\n",
      "  combined_data = combined_data.append(df, ignore_index=True)  # Append data to the combined DataFrame\n",
      "C:\\Users\\shanu\\AppData\\Local\\Temp\\ipykernel_22572\\1395918530.py:19: FutureWarning: The frame.append method is deprecated and will be removed from pandas in a future version. Use pandas.concat instead.\n",
      "  combined_data = combined_data.append(df, ignore_index=True)  # Append data to the combined DataFrame\n",
      "C:\\Users\\shanu\\AppData\\Local\\Temp\\ipykernel_22572\\1395918530.py:19: FutureWarning: The frame.append method is deprecated and will be removed from pandas in a future version. Use pandas.concat instead.\n",
      "  combined_data = combined_data.append(df, ignore_index=True)  # Append data to the combined DataFrame\n",
      "C:\\Users\\shanu\\AppData\\Local\\Temp\\ipykernel_22572\\1395918530.py:19: FutureWarning: The frame.append method is deprecated and will be removed from pandas in a future version. Use pandas.concat instead.\n",
      "  combined_data = combined_data.append(df, ignore_index=True)  # Append data to the combined DataFrame\n",
      "C:\\Users\\shanu\\AppData\\Local\\Temp\\ipykernel_22572\\1395918530.py:19: FutureWarning: The frame.append method is deprecated and will be removed from pandas in a future version. Use pandas.concat instead.\n",
      "  combined_data = combined_data.append(df, ignore_index=True)  # Append data to the combined DataFrame\n",
      "C:\\Users\\shanu\\AppData\\Local\\Temp\\ipykernel_22572\\1395918530.py:19: FutureWarning: The frame.append method is deprecated and will be removed from pandas in a future version. Use pandas.concat instead.\n",
      "  combined_data = combined_data.append(df, ignore_index=True)  # Append data to the combined DataFrame\n",
      "C:\\Users\\shanu\\AppData\\Local\\Temp\\ipykernel_22572\\1395918530.py:19: FutureWarning: The frame.append method is deprecated and will be removed from pandas in a future version. Use pandas.concat instead.\n",
      "  combined_data = combined_data.append(df, ignore_index=True)  # Append data to the combined DataFrame\n",
      "C:\\Users\\shanu\\AppData\\Local\\Temp\\ipykernel_22572\\1395918530.py:19: FutureWarning: The frame.append method is deprecated and will be removed from pandas in a future version. Use pandas.concat instead.\n",
      "  combined_data = combined_data.append(df, ignore_index=True)  # Append data to the combined DataFrame\n",
      "C:\\Users\\shanu\\AppData\\Local\\Temp\\ipykernel_22572\\1395918530.py:19: FutureWarning: The frame.append method is deprecated and will be removed from pandas in a future version. Use pandas.concat instead.\n",
      "  combined_data = combined_data.append(df, ignore_index=True)  # Append data to the combined DataFrame\n",
      "C:\\Users\\shanu\\AppData\\Local\\Temp\\ipykernel_22572\\1395918530.py:19: FutureWarning: The frame.append method is deprecated and will be removed from pandas in a future version. Use pandas.concat instead.\n",
      "  combined_data = combined_data.append(df, ignore_index=True)  # Append data to the combined DataFrame\n",
      "C:\\Users\\shanu\\AppData\\Local\\Temp\\ipykernel_22572\\1395918530.py:19: FutureWarning: The frame.append method is deprecated and will be removed from pandas in a future version. Use pandas.concat instead.\n",
      "  combined_data = combined_data.append(df, ignore_index=True)  # Append data to the combined DataFrame\n",
      "C:\\Users\\shanu\\AppData\\Local\\Temp\\ipykernel_22572\\1395918530.py:19: FutureWarning: The frame.append method is deprecated and will be removed from pandas in a future version. Use pandas.concat instead.\n",
      "  combined_data = combined_data.append(df, ignore_index=True)  # Append data to the combined DataFrame\n",
      "C:\\Users\\shanu\\AppData\\Local\\Temp\\ipykernel_22572\\1395918530.py:19: FutureWarning: The frame.append method is deprecated and will be removed from pandas in a future version. Use pandas.concat instead.\n",
      "  combined_data = combined_data.append(df, ignore_index=True)  # Append data to the combined DataFrame\n",
      "C:\\Users\\shanu\\AppData\\Local\\Temp\\ipykernel_22572\\1395918530.py:19: FutureWarning: The frame.append method is deprecated and will be removed from pandas in a future version. Use pandas.concat instead.\n",
      "  combined_data = combined_data.append(df, ignore_index=True)  # Append data to the combined DataFrame\n",
      "C:\\Users\\shanu\\AppData\\Local\\Temp\\ipykernel_22572\\1395918530.py:19: FutureWarning: The frame.append method is deprecated and will be removed from pandas in a future version. Use pandas.concat instead.\n",
      "  combined_data = combined_data.append(df, ignore_index=True)  # Append data to the combined DataFrame\n",
      "C:\\Users\\shanu\\AppData\\Local\\Temp\\ipykernel_22572\\1395918530.py:19: FutureWarning: The frame.append method is deprecated and will be removed from pandas in a future version. Use pandas.concat instead.\n",
      "  combined_data = combined_data.append(df, ignore_index=True)  # Append data to the combined DataFrame\n",
      "C:\\Users\\shanu\\AppData\\Local\\Temp\\ipykernel_22572\\1395918530.py:19: FutureWarning: The frame.append method is deprecated and will be removed from pandas in a future version. Use pandas.concat instead.\n",
      "  combined_data = combined_data.append(df, ignore_index=True)  # Append data to the combined DataFrame\n",
      "C:\\Users\\shanu\\AppData\\Local\\Temp\\ipykernel_22572\\1395918530.py:19: FutureWarning: The frame.append method is deprecated and will be removed from pandas in a future version. Use pandas.concat instead.\n",
      "  combined_data = combined_data.append(df, ignore_index=True)  # Append data to the combined DataFrame\n",
      "C:\\Users\\shanu\\AppData\\Local\\Temp\\ipykernel_22572\\1395918530.py:19: FutureWarning: The frame.append method is deprecated and will be removed from pandas in a future version. Use pandas.concat instead.\n",
      "  combined_data = combined_data.append(df, ignore_index=True)  # Append data to the combined DataFrame\n",
      "C:\\Users\\shanu\\AppData\\Local\\Temp\\ipykernel_22572\\1395918530.py:19: FutureWarning: The frame.append method is deprecated and will be removed from pandas in a future version. Use pandas.concat instead.\n",
      "  combined_data = combined_data.append(df, ignore_index=True)  # Append data to the combined DataFrame\n",
      "C:\\Users\\shanu\\AppData\\Local\\Temp\\ipykernel_22572\\1395918530.py:19: FutureWarning: The frame.append method is deprecated and will be removed from pandas in a future version. Use pandas.concat instead.\n",
      "  combined_data = combined_data.append(df, ignore_index=True)  # Append data to the combined DataFrame\n",
      "C:\\Users\\shanu\\AppData\\Local\\Temp\\ipykernel_22572\\1395918530.py:19: FutureWarning: The frame.append method is deprecated and will be removed from pandas in a future version. Use pandas.concat instead.\n",
      "  combined_data = combined_data.append(df, ignore_index=True)  # Append data to the combined DataFrame\n",
      "C:\\Users\\shanu\\AppData\\Local\\Temp\\ipykernel_22572\\1395918530.py:19: FutureWarning: The frame.append method is deprecated and will be removed from pandas in a future version. Use pandas.concat instead.\n",
      "  combined_data = combined_data.append(df, ignore_index=True)  # Append data to the combined DataFrame\n",
      "C:\\Users\\shanu\\AppData\\Local\\Temp\\ipykernel_22572\\1395918530.py:19: FutureWarning: The frame.append method is deprecated and will be removed from pandas in a future version. Use pandas.concat instead.\n",
      "  combined_data = combined_data.append(df, ignore_index=True)  # Append data to the combined DataFrame\n",
      "C:\\Users\\shanu\\AppData\\Local\\Temp\\ipykernel_22572\\1395918530.py:19: FutureWarning: The frame.append method is deprecated and will be removed from pandas in a future version. Use pandas.concat instead.\n",
      "  combined_data = combined_data.append(df, ignore_index=True)  # Append data to the combined DataFrame\n",
      "C:\\Users\\shanu\\AppData\\Local\\Temp\\ipykernel_22572\\1395918530.py:19: FutureWarning: The frame.append method is deprecated and will be removed from pandas in a future version. Use pandas.concat instead.\n",
      "  combined_data = combined_data.append(df, ignore_index=True)  # Append data to the combined DataFrame\n",
      "C:\\Users\\shanu\\AppData\\Local\\Temp\\ipykernel_22572\\1395918530.py:19: FutureWarning: The frame.append method is deprecated and will be removed from pandas in a future version. Use pandas.concat instead.\n",
      "  combined_data = combined_data.append(df, ignore_index=True)  # Append data to the combined DataFrame\n",
      "C:\\Users\\shanu\\AppData\\Local\\Temp\\ipykernel_22572\\1395918530.py:19: FutureWarning: The frame.append method is deprecated and will be removed from pandas in a future version. Use pandas.concat instead.\n",
      "  combined_data = combined_data.append(df, ignore_index=True)  # Append data to the combined DataFrame\n",
      "C:\\Users\\shanu\\AppData\\Local\\Temp\\ipykernel_22572\\1395918530.py:19: FutureWarning: The frame.append method is deprecated and will be removed from pandas in a future version. Use pandas.concat instead.\n",
      "  combined_data = combined_data.append(df, ignore_index=True)  # Append data to the combined DataFrame\n",
      "C:\\Users\\shanu\\AppData\\Local\\Temp\\ipykernel_22572\\1395918530.py:19: FutureWarning: The frame.append method is deprecated and will be removed from pandas in a future version. Use pandas.concat instead.\n",
      "  combined_data = combined_data.append(df, ignore_index=True)  # Append data to the combined DataFrame\n",
      "C:\\Users\\shanu\\AppData\\Local\\Temp\\ipykernel_22572\\1395918530.py:19: FutureWarning: The frame.append method is deprecated and will be removed from pandas in a future version. Use pandas.concat instead.\n",
      "  combined_data = combined_data.append(df, ignore_index=True)  # Append data to the combined DataFrame\n",
      "C:\\Users\\shanu\\AppData\\Local\\Temp\\ipykernel_22572\\1395918530.py:19: FutureWarning: The frame.append method is deprecated and will be removed from pandas in a future version. Use pandas.concat instead.\n",
      "  combined_data = combined_data.append(df, ignore_index=True)  # Append data to the combined DataFrame\n",
      "C:\\Users\\shanu\\AppData\\Local\\Temp\\ipykernel_22572\\1395918530.py:19: FutureWarning: The frame.append method is deprecated and will be removed from pandas in a future version. Use pandas.concat instead.\n",
      "  combined_data = combined_data.append(df, ignore_index=True)  # Append data to the combined DataFrame\n",
      "C:\\Users\\shanu\\AppData\\Local\\Temp\\ipykernel_22572\\1395918530.py:19: FutureWarning: The frame.append method is deprecated and will be removed from pandas in a future version. Use pandas.concat instead.\n",
      "  combined_data = combined_data.append(df, ignore_index=True)  # Append data to the combined DataFrame\n",
      "C:\\Users\\shanu\\AppData\\Local\\Temp\\ipykernel_22572\\1395918530.py:19: FutureWarning: The frame.append method is deprecated and will be removed from pandas in a future version. Use pandas.concat instead.\n",
      "  combined_data = combined_data.append(df, ignore_index=True)  # Append data to the combined DataFrame\n",
      "C:\\Users\\shanu\\AppData\\Local\\Temp\\ipykernel_22572\\1395918530.py:19: FutureWarning: The frame.append method is deprecated and will be removed from pandas in a future version. Use pandas.concat instead.\n",
      "  combined_data = combined_data.append(df, ignore_index=True)  # Append data to the combined DataFrame\n",
      "C:\\Users\\shanu\\AppData\\Local\\Temp\\ipykernel_22572\\1395918530.py:19: FutureWarning: The frame.append method is deprecated and will be removed from pandas in a future version. Use pandas.concat instead.\n",
      "  combined_data = combined_data.append(df, ignore_index=True)  # Append data to the combined DataFrame\n",
      "C:\\Users\\shanu\\AppData\\Local\\Temp\\ipykernel_22572\\1395918530.py:19: FutureWarning: The frame.append method is deprecated and will be removed from pandas in a future version. Use pandas.concat instead.\n",
      "  combined_data = combined_data.append(df, ignore_index=True)  # Append data to the combined DataFrame\n",
      "C:\\Users\\shanu\\AppData\\Local\\Temp\\ipykernel_22572\\1395918530.py:19: FutureWarning: The frame.append method is deprecated and will be removed from pandas in a future version. Use pandas.concat instead.\n",
      "  combined_data = combined_data.append(df, ignore_index=True)  # Append data to the combined DataFrame\n",
      "C:\\Users\\shanu\\AppData\\Local\\Temp\\ipykernel_22572\\1395918530.py:19: FutureWarning: The frame.append method is deprecated and will be removed from pandas in a future version. Use pandas.concat instead.\n",
      "  combined_data = combined_data.append(df, ignore_index=True)  # Append data to the combined DataFrame\n",
      "C:\\Users\\shanu\\AppData\\Local\\Temp\\ipykernel_22572\\1395918530.py:19: FutureWarning: The frame.append method is deprecated and will be removed from pandas in a future version. Use pandas.concat instead.\n",
      "  combined_data = combined_data.append(df, ignore_index=True)  # Append data to the combined DataFrame\n",
      "C:\\Users\\shanu\\AppData\\Local\\Temp\\ipykernel_22572\\1395918530.py:19: FutureWarning: The frame.append method is deprecated and will be removed from pandas in a future version. Use pandas.concat instead.\n",
      "  combined_data = combined_data.append(df, ignore_index=True)  # Append data to the combined DataFrame\n",
      "C:\\Users\\shanu\\AppData\\Local\\Temp\\ipykernel_22572\\1395918530.py:19: FutureWarning: The frame.append method is deprecated and will be removed from pandas in a future version. Use pandas.concat instead.\n",
      "  combined_data = combined_data.append(df, ignore_index=True)  # Append data to the combined DataFrame\n",
      "C:\\Users\\shanu\\AppData\\Local\\Temp\\ipykernel_22572\\1395918530.py:19: FutureWarning: The frame.append method is deprecated and will be removed from pandas in a future version. Use pandas.concat instead.\n",
      "  combined_data = combined_data.append(df, ignore_index=True)  # Append data to the combined DataFrame\n",
      "C:\\Users\\shanu\\AppData\\Local\\Temp\\ipykernel_22572\\1395918530.py:19: FutureWarning: The frame.append method is deprecated and will be removed from pandas in a future version. Use pandas.concat instead.\n",
      "  combined_data = combined_data.append(df, ignore_index=True)  # Append data to the combined DataFrame\n",
      "C:\\Users\\shanu\\AppData\\Local\\Temp\\ipykernel_22572\\1395918530.py:19: FutureWarning: The frame.append method is deprecated and will be removed from pandas in a future version. Use pandas.concat instead.\n",
      "  combined_data = combined_data.append(df, ignore_index=True)  # Append data to the combined DataFrame\n",
      "C:\\Users\\shanu\\AppData\\Local\\Temp\\ipykernel_22572\\1395918530.py:19: FutureWarning: The frame.append method is deprecated and will be removed from pandas in a future version. Use pandas.concat instead.\n",
      "  combined_data = combined_data.append(df, ignore_index=True)  # Append data to the combined DataFrame\n",
      "C:\\Users\\shanu\\AppData\\Local\\Temp\\ipykernel_22572\\1395918530.py:19: FutureWarning: The frame.append method is deprecated and will be removed from pandas in a future version. Use pandas.concat instead.\n",
      "  combined_data = combined_data.append(df, ignore_index=True)  # Append data to the combined DataFrame\n",
      "C:\\Users\\shanu\\AppData\\Local\\Temp\\ipykernel_22572\\1395918530.py:19: FutureWarning: The frame.append method is deprecated and will be removed from pandas in a future version. Use pandas.concat instead.\n",
      "  combined_data = combined_data.append(df, ignore_index=True)  # Append data to the combined DataFrame\n"
     ]
    }
   ],
   "source": [
    "import os\n",
    "folder_path = 'C:/Users/shanu/Documents/Subsaharan'\n",
    "\n",
    "# Get a list of all Excel files in the folder\n",
    "excel_files = [file for file in os.listdir(folder_path) if file.endswith('.csv')]\n",
    "\n",
    "# Initialize an empty DataFrame to store combined data\n",
    "combined_data = pd.DataFrame()\n",
    "\n",
    "# Loop through each Excel file and append its data to the combined_data DataFrame\n",
    "for file in excel_files:\n",
    "    file_path = os.path.join(folder_path, file)\n",
    "    df = pd.read_csv(file_path)  # Read data from Excel file\n",
    "    for col in df.columns:\n",
    "        if df[col].isnull().all():\n",
    "            df[col] = 0\n",
    "        else:\n",
    "            df[col].fillna(df[col].mean(), inplace=True)\n",
    "    combined_data = combined_data.append(df, ignore_index=True)  # Append data to the combined DataFrame\n",
    "\n",
    "# Write the combined data to a new Excel file\n",
    "combined_data.to_csv('C:/Users/shanu/Documents/Subsaharan/Subsaharan_data.csv', index=False)"
   ]
  },
  {
   "cell_type": "code",
   "execution_count": 8,
   "id": "16376218-5578-40fe-a585-0ab8666485b6",
   "metadata": {},
   "outputs": [
    {
     "data": {
      "application/vnd.jupyter.widget-view+json": {
       "model_id": "f8d2b7a3990944098504248f016abc99",
       "version_major": 2,
       "version_minor": 0
      },
      "text/plain": [
       "Summarize dataset:   0%|          | 0/5 [00:00<?, ?it/s]"
      ]
     },
     "metadata": {},
     "output_type": "display_data"
    },
    {
     "data": {
      "application/vnd.jupyter.widget-view+json": {
       "model_id": "ccb1d859670a49c280f972bbd82f3579",
       "version_major": 2,
       "version_minor": 0
      },
      "text/plain": [
       "Generate report structure:   0%|          | 0/1 [00:00<?, ?it/s]"
      ]
     },
     "metadata": {},
     "output_type": "display_data"
    },
    {
     "data": {
      "application/vnd.jupyter.widget-view+json": {
       "model_id": "00ebb19a936d4ff28b521fece10e268f",
       "version_major": 2,
       "version_minor": 0
      },
      "text/plain": [
       "Render HTML:   0%|          | 0/1 [00:00<?, ?it/s]"
      ]
     },
     "metadata": {},
     "output_type": "display_data"
    },
    {
     "data": {
      "application/vnd.jupyter.widget-view+json": {
       "model_id": "302891a7b31d41d893068b9976cc45c1",
       "version_major": 2,
       "version_minor": 0
      },
      "text/plain": [
       "Export report to file:   0%|          | 0/1 [00:00<?, ?it/s]"
      ]
     },
     "metadata": {},
     "output_type": "display_data"
    }
   ],
   "source": [
    "ssa = pd.read_csv(\"C:/Users/shanu/Documents/Subsaharan/Subsaharan_data.csv\")\n",
    "# convert into a pandas data frame\n",
    "\n",
    "df = pd.DataFrame(ssa)\n",
    "\n",
    "\n",
    "\n",
    "# # load the ydata_profiling package\n",
    "\n",
    "# # use ProfileReport\n",
    "pr_df = ProfileReport(df,title=\"Subsaharan_Countries_EDA\")\n",
    "pr_df.to_file(\"subsaharan_EDA_report.html\")"
   ]
  },
  {
   "cell_type": "code",
   "execution_count": null,
   "id": "031e790e-6a25-48ed-a70c-e4cc2ce0604b",
   "metadata": {},
   "outputs": [],
   "source": []
  }
 ],
 "metadata": {
  "kernelspec": {
   "display_name": "Python 3 (ipykernel)",
   "language": "python",
   "name": "python3"
  },
  "language_info": {
   "codemirror_mode": {
    "name": "ipython",
    "version": 3
   },
   "file_extension": ".py",
   "mimetype": "text/x-python",
   "name": "python",
   "nbconvert_exporter": "python",
   "pygments_lexer": "ipython3",
   "version": "3.10.9"
  }
 },
 "nbformat": 4,
 "nbformat_minor": 5
}
